{
 "cells": [
  {
   "cell_type": "markdown",
   "metadata": {
    "slideshow": {
     "slide_type": "slide"
    }
   },
   "source": [
    "# Predictions of revenue using IMDb and TMDb datasets\n",
    "Oct 23, 2019\n",
    "\n",
    "<img src=\"./movies1.gif\" height=\"100%\">"
   ]
  },
  {
   "cell_type": "markdown",
   "metadata": {
    "slideshow": {
     "slide_type": "slide"
    }
   },
   "source": [
    "## Outline\n",
    "<ul>\n",
    "<li><a href=\"#intro\">Introduction</a></li>\n",
    "<li><a href=\"#preprocess\">Preprocessing</a></li>\n",
    "<li><a href=\"#selection\">Best features selection</a></li>\n",
    "<li><a href=\"#ML\">ML</a></li>\n",
    "<li><a href=\"#conclusion\">Conclusion</a></li>\n",
    "</ul>"
   ]
  },
  {
   "cell_type": "markdown",
   "metadata": {
    "slideshow": {
     "slide_type": "slide"
    }
   },
   "source": [
    "## 1. Introduction\n",
    "\n",
    "In our work we use datasets from IMDB (Internet Movie DataBase) and TMDB (The Movie DataBase). First contains trustful customer's ratings and second contains informations about movies' directors, actors, revenues, etc. Our main goal is to find features that have bigger influence on revenue. And built a model based on these features to estimate the revenue. Because income of the movie's production is the most important characteristic for producers."
   ]
  },
  {
   "cell_type": "markdown",
   "metadata": {
    "slideshow": {
     "slide_type": "slide"
    }
   },
   "source": [
    "> ### What features of a movie generate higher revenue?\n",
    "> <b>1.</b> From our hypothesis we assume that budget should correlate with revenue: the higher the income the greater outcome. We will prove our statement further.\n",
    "<br>\n",
    "<br>\n",
    "> <b>2.</b> Top actors should play a big role in the final revenue. Let's divide all movies by actors and we will see there influence on the final box office, because more people would watch it.\n",
    "<br>\n",
    "<br>\n",
    "> <b>3.</b> Often people watch movies which have a high rating at the Internet. Let's consider the dependence of the revenue from the film rating in this dataset."
   ]
  },
  {
   "cell_type": "markdown",
   "metadata": {
    "slideshow": {
     "slide_type": "slide"
    }
   },
   "source": [
    "> <b>4.</b> Director also influence on the final revenue. Let's divide all movies by directors and we will see there impact on the final box office.\n",
    "<br>\n",
    "<br>\n",
    "> <b>5.</b> May be genres also play a big role in the final revenue. Let's see wich genre will affect more: comedy or horror?\n",
    "<br>\n",
    "<br>\n",
    "> <b>6.</b> Elborate on the data to see which key features we can find which have a big correlation with movies outcome to be able to predict future revenue.\n",
    "\n",
    "Note: budget_adj and revenue_adj include inflation, so for the future analisys we will use these features"
   ]
  },
  {
   "cell_type": "code",
   "execution_count": 1,
   "metadata": {
    "slideshow": {
     "slide_type": "slide"
    }
   },
   "outputs": [],
   "source": [
    "# Imports of useful libraries\n",
    "\n",
    "import numpy as np\n",
    "import pandas as pd\n",
    "import matplotlib.pyplot as plt\n",
    "import seaborn as sns\n",
    "%matplotlib inline\n",
    "import matplotlib"
   ]
  },
  {
   "cell_type": "code",
   "execution_count": 2,
   "metadata": {
    "slideshow": {
     "slide_type": "slide"
    }
   },
   "outputs": [
    {
     "data": {
      "text/html": [
       "<div>\n",
       "<style scoped>\n",
       "    .dataframe tbody tr th:only-of-type {\n",
       "        vertical-align: middle;\n",
       "    }\n",
       "\n",
       "    .dataframe tbody tr th {\n",
       "        vertical-align: top;\n",
       "    }\n",
       "\n",
       "    .dataframe thead th {\n",
       "        text-align: right;\n",
       "    }\n",
       "</style>\n",
       "<table border=\"1\" class=\"dataframe\">\n",
       "  <thead>\n",
       "    <tr style=\"text-align: right;\">\n",
       "      <th></th>\n",
       "      <th>id</th>\n",
       "      <th>imdb_id</th>\n",
       "      <th>popularity</th>\n",
       "      <th>budget</th>\n",
       "      <th>revenue</th>\n",
       "      <th>original_title</th>\n",
       "      <th>cast</th>\n",
       "      <th>homepage</th>\n",
       "      <th>director</th>\n",
       "      <th>tagline</th>\n",
       "      <th>...</th>\n",
       "      <th>overview</th>\n",
       "      <th>runtime</th>\n",
       "      <th>genres</th>\n",
       "      <th>production_companies</th>\n",
       "      <th>release_date</th>\n",
       "      <th>vote_count</th>\n",
       "      <th>vote_average</th>\n",
       "      <th>release_year</th>\n",
       "      <th>budget_adj</th>\n",
       "      <th>revenue_adj</th>\n",
       "    </tr>\n",
       "  </thead>\n",
       "  <tbody>\n",
       "    <tr>\n",
       "      <td>0</td>\n",
       "      <td>135397</td>\n",
       "      <td>tt0369610</td>\n",
       "      <td>32.985763</td>\n",
       "      <td>150000000</td>\n",
       "      <td>1513528810</td>\n",
       "      <td>Jurassic World</td>\n",
       "      <td>Chris Pratt|Bryce Dallas Howard|Irrfan Khan|Vi...</td>\n",
       "      <td>http://www.jurassicworld.com/</td>\n",
       "      <td>Colin Trevorrow</td>\n",
       "      <td>The park is open.</td>\n",
       "      <td>...</td>\n",
       "      <td>Twenty-two years after the events of Jurassic ...</td>\n",
       "      <td>124</td>\n",
       "      <td>Action|Adventure|Science Fiction|Thriller</td>\n",
       "      <td>Universal Studios|Amblin Entertainment|Legenda...</td>\n",
       "      <td>6/9/15</td>\n",
       "      <td>5562</td>\n",
       "      <td>6.5</td>\n",
       "      <td>2015</td>\n",
       "      <td>1.379999e+08</td>\n",
       "      <td>1.392446e+09</td>\n",
       "    </tr>\n",
       "    <tr>\n",
       "      <td>1</td>\n",
       "      <td>76341</td>\n",
       "      <td>tt1392190</td>\n",
       "      <td>28.419936</td>\n",
       "      <td>150000000</td>\n",
       "      <td>378436354</td>\n",
       "      <td>Mad Max: Fury Road</td>\n",
       "      <td>Tom Hardy|Charlize Theron|Hugh Keays-Byrne|Nic...</td>\n",
       "      <td>http://www.madmaxmovie.com/</td>\n",
       "      <td>George Miller</td>\n",
       "      <td>What a Lovely Day.</td>\n",
       "      <td>...</td>\n",
       "      <td>An apocalyptic story set in the furthest reach...</td>\n",
       "      <td>120</td>\n",
       "      <td>Action|Adventure|Science Fiction|Thriller</td>\n",
       "      <td>Village Roadshow Pictures|Kennedy Miller Produ...</td>\n",
       "      <td>5/13/15</td>\n",
       "      <td>6185</td>\n",
       "      <td>7.1</td>\n",
       "      <td>2015</td>\n",
       "      <td>1.379999e+08</td>\n",
       "      <td>3.481613e+08</td>\n",
       "    </tr>\n",
       "    <tr>\n",
       "      <td>2</td>\n",
       "      <td>262500</td>\n",
       "      <td>tt2908446</td>\n",
       "      <td>13.112507</td>\n",
       "      <td>110000000</td>\n",
       "      <td>295238201</td>\n",
       "      <td>Insurgent</td>\n",
       "      <td>Shailene Woodley|Theo James|Kate Winslet|Ansel...</td>\n",
       "      <td>http://www.thedivergentseries.movie/#insurgent</td>\n",
       "      <td>Robert Schwentke</td>\n",
       "      <td>One Choice Can Destroy You</td>\n",
       "      <td>...</td>\n",
       "      <td>Beatrice Prior must confront her inner demons ...</td>\n",
       "      <td>119</td>\n",
       "      <td>Adventure|Science Fiction|Thriller</td>\n",
       "      <td>Summit Entertainment|Mandeville Films|Red Wago...</td>\n",
       "      <td>3/18/15</td>\n",
       "      <td>2480</td>\n",
       "      <td>6.3</td>\n",
       "      <td>2015</td>\n",
       "      <td>1.012000e+08</td>\n",
       "      <td>2.716190e+08</td>\n",
       "    </tr>\n",
       "    <tr>\n",
       "      <td>3</td>\n",
       "      <td>140607</td>\n",
       "      <td>tt2488496</td>\n",
       "      <td>11.173104</td>\n",
       "      <td>200000000</td>\n",
       "      <td>2068178225</td>\n",
       "      <td>Star Wars: The Force Awakens</td>\n",
       "      <td>Harrison Ford|Mark Hamill|Carrie Fisher|Adam D...</td>\n",
       "      <td>http://www.starwars.com/films/star-wars-episod...</td>\n",
       "      <td>J.J. Abrams</td>\n",
       "      <td>Every generation has a story.</td>\n",
       "      <td>...</td>\n",
       "      <td>Thirty years after defeating the Galactic Empi...</td>\n",
       "      <td>136</td>\n",
       "      <td>Action|Adventure|Science Fiction|Fantasy</td>\n",
       "      <td>Lucasfilm|Truenorth Productions|Bad Robot</td>\n",
       "      <td>12/15/15</td>\n",
       "      <td>5292</td>\n",
       "      <td>7.5</td>\n",
       "      <td>2015</td>\n",
       "      <td>1.839999e+08</td>\n",
       "      <td>1.902723e+09</td>\n",
       "    </tr>\n",
       "    <tr>\n",
       "      <td>4</td>\n",
       "      <td>168259</td>\n",
       "      <td>tt2820852</td>\n",
       "      <td>9.335014</td>\n",
       "      <td>190000000</td>\n",
       "      <td>1506249360</td>\n",
       "      <td>Furious 7</td>\n",
       "      <td>Vin Diesel|Paul Walker|Jason Statham|Michelle ...</td>\n",
       "      <td>http://www.furious7.com/</td>\n",
       "      <td>James Wan</td>\n",
       "      <td>Vengeance Hits Home</td>\n",
       "      <td>...</td>\n",
       "      <td>Deckard Shaw seeks revenge against Dominic Tor...</td>\n",
       "      <td>137</td>\n",
       "      <td>Action|Crime|Thriller</td>\n",
       "      <td>Universal Pictures|Original Film|Media Rights ...</td>\n",
       "      <td>4/1/15</td>\n",
       "      <td>2947</td>\n",
       "      <td>7.3</td>\n",
       "      <td>2015</td>\n",
       "      <td>1.747999e+08</td>\n",
       "      <td>1.385749e+09</td>\n",
       "    </tr>\n",
       "  </tbody>\n",
       "</table>\n",
       "<p>5 rows × 21 columns</p>\n",
       "</div>"
      ],
      "text/plain": [
       "       id    imdb_id  popularity     budget     revenue  \\\n",
       "0  135397  tt0369610   32.985763  150000000  1513528810   \n",
       "1   76341  tt1392190   28.419936  150000000   378436354   \n",
       "2  262500  tt2908446   13.112507  110000000   295238201   \n",
       "3  140607  tt2488496   11.173104  200000000  2068178225   \n",
       "4  168259  tt2820852    9.335014  190000000  1506249360   \n",
       "\n",
       "                 original_title  \\\n",
       "0                Jurassic World   \n",
       "1            Mad Max: Fury Road   \n",
       "2                     Insurgent   \n",
       "3  Star Wars: The Force Awakens   \n",
       "4                     Furious 7   \n",
       "\n",
       "                                                cast  \\\n",
       "0  Chris Pratt|Bryce Dallas Howard|Irrfan Khan|Vi...   \n",
       "1  Tom Hardy|Charlize Theron|Hugh Keays-Byrne|Nic...   \n",
       "2  Shailene Woodley|Theo James|Kate Winslet|Ansel...   \n",
       "3  Harrison Ford|Mark Hamill|Carrie Fisher|Adam D...   \n",
       "4  Vin Diesel|Paul Walker|Jason Statham|Michelle ...   \n",
       "\n",
       "                                            homepage          director  \\\n",
       "0                      http://www.jurassicworld.com/   Colin Trevorrow   \n",
       "1                        http://www.madmaxmovie.com/     George Miller   \n",
       "2     http://www.thedivergentseries.movie/#insurgent  Robert Schwentke   \n",
       "3  http://www.starwars.com/films/star-wars-episod...       J.J. Abrams   \n",
       "4                           http://www.furious7.com/         James Wan   \n",
       "\n",
       "                         tagline  ...  \\\n",
       "0              The park is open.  ...   \n",
       "1             What a Lovely Day.  ...   \n",
       "2     One Choice Can Destroy You  ...   \n",
       "3  Every generation has a story.  ...   \n",
       "4            Vengeance Hits Home  ...   \n",
       "\n",
       "                                            overview runtime  \\\n",
       "0  Twenty-two years after the events of Jurassic ...     124   \n",
       "1  An apocalyptic story set in the furthest reach...     120   \n",
       "2  Beatrice Prior must confront her inner demons ...     119   \n",
       "3  Thirty years after defeating the Galactic Empi...     136   \n",
       "4  Deckard Shaw seeks revenge against Dominic Tor...     137   \n",
       "\n",
       "                                      genres  \\\n",
       "0  Action|Adventure|Science Fiction|Thriller   \n",
       "1  Action|Adventure|Science Fiction|Thriller   \n",
       "2         Adventure|Science Fiction|Thriller   \n",
       "3   Action|Adventure|Science Fiction|Fantasy   \n",
       "4                      Action|Crime|Thriller   \n",
       "\n",
       "                                production_companies release_date vote_count  \\\n",
       "0  Universal Studios|Amblin Entertainment|Legenda...       6/9/15       5562   \n",
       "1  Village Roadshow Pictures|Kennedy Miller Produ...      5/13/15       6185   \n",
       "2  Summit Entertainment|Mandeville Films|Red Wago...      3/18/15       2480   \n",
       "3          Lucasfilm|Truenorth Productions|Bad Robot     12/15/15       5292   \n",
       "4  Universal Pictures|Original Film|Media Rights ...       4/1/15       2947   \n",
       "\n",
       "   vote_average  release_year    budget_adj   revenue_adj  \n",
       "0           6.5          2015  1.379999e+08  1.392446e+09  \n",
       "1           7.1          2015  1.379999e+08  3.481613e+08  \n",
       "2           6.3          2015  1.012000e+08  2.716190e+08  \n",
       "3           7.5          2015  1.839999e+08  1.902723e+09  \n",
       "4           7.3          2015  1.747999e+08  1.385749e+09  \n",
       "\n",
       "[5 rows x 21 columns]"
      ]
     },
     "execution_count": 2,
     "metadata": {},
     "output_type": "execute_result"
    }
   ],
   "source": [
    "# Data reading \n",
    "\n",
    "data_imdb = pd.read_csv(\"data.tsv\", sep=\"\\t\", index_col=None)\n",
    "data_tmdb = pd.read_csv(\"tmdb_5000_movies.csv\")\n",
    "data_tmdb.head()"
   ]
  },
  {
   "cell_type": "code",
   "execution_count": 3,
   "metadata": {
    "slideshow": {
     "slide_type": "slide"
    }
   },
   "outputs": [],
   "source": [
    "# The average number of votes in TMDB dataset is much lower than in IMDB dataset, thus we will \n",
    "# merge these two datasets and obtain more relaible data\n",
    "\n",
    "data_imdb = data_imdb.rename(columns={'tconst': 'imdb_id'})\n",
    "data = pd.merge(data_imdb, data_tmdb, on='imdb_id')\n",
    "data = data.drop(['vote_count','vote_average'], axis = 1)"
   ]
  },
  {
   "cell_type": "code",
   "execution_count": 4,
   "metadata": {
    "slideshow": {
     "slide_type": "slide"
    }
   },
   "outputs": [
    {
     "data": {
      "text/html": [
       "<div>\n",
       "<style scoped>\n",
       "    .dataframe tbody tr th:only-of-type {\n",
       "        vertical-align: middle;\n",
       "    }\n",
       "\n",
       "    .dataframe tbody tr th {\n",
       "        vertical-align: top;\n",
       "    }\n",
       "\n",
       "    .dataframe thead th {\n",
       "        text-align: right;\n",
       "    }\n",
       "</style>\n",
       "<table border=\"1\" class=\"dataframe\">\n",
       "  <thead>\n",
       "    <tr style=\"text-align: right;\">\n",
       "      <th></th>\n",
       "      <th>imdb_id</th>\n",
       "      <th>averageRating</th>\n",
       "      <th>numVotes</th>\n",
       "      <th>id</th>\n",
       "      <th>popularity</th>\n",
       "      <th>budget</th>\n",
       "      <th>revenue</th>\n",
       "      <th>original_title</th>\n",
       "      <th>cast</th>\n",
       "      <th>homepage</th>\n",
       "      <th>...</th>\n",
       "      <th>tagline</th>\n",
       "      <th>keywords</th>\n",
       "      <th>overview</th>\n",
       "      <th>runtime</th>\n",
       "      <th>genres</th>\n",
       "      <th>production_companies</th>\n",
       "      <th>release_date</th>\n",
       "      <th>release_year</th>\n",
       "      <th>budget_adj</th>\n",
       "      <th>revenue_adj</th>\n",
       "    </tr>\n",
       "  </thead>\n",
       "  <tbody>\n",
       "    <tr>\n",
       "      <td>0</td>\n",
       "      <td>tt0035423</td>\n",
       "      <td>6.4</td>\n",
       "      <td>75099</td>\n",
       "      <td>11232</td>\n",
       "      <td>0.883228</td>\n",
       "      <td>0</td>\n",
       "      <td>0</td>\n",
       "      <td>Kate &amp; Leopold</td>\n",
       "      <td>Meg Ryan|Hugh Jackman|Liev Schreiber|Breckin M...</td>\n",
       "      <td>NaN</td>\n",
       "      <td>...</td>\n",
       "      <td>If they lived in the same century they'd be pe...</td>\n",
       "      <td>lover (female)|love of one's life|time travel|...</td>\n",
       "      <td>When her scientist ex-boyfriend discovers a po...</td>\n",
       "      <td>118</td>\n",
       "      <td>Comedy|Fantasy|Romance|Science Fiction</td>\n",
       "      <td>Miramax Films|Konrad Pictures</td>\n",
       "      <td>12/25/01</td>\n",
       "      <td>2001</td>\n",
       "      <td>0.000000e+00</td>\n",
       "      <td>0.000000e+00</td>\n",
       "    </tr>\n",
       "    <tr>\n",
       "      <td>1</td>\n",
       "      <td>tt0052646</td>\n",
       "      <td>4.4</td>\n",
       "      <td>5734</td>\n",
       "      <td>33468</td>\n",
       "      <td>0.215748</td>\n",
       "      <td>62000</td>\n",
       "      <td>0</td>\n",
       "      <td>The Brain That Wouldn't Die</td>\n",
       "      <td>Jason Evers|Virginia Leith|Doris Brent|Audrey ...</td>\n",
       "      <td>NaN</td>\n",
       "      <td>...</td>\n",
       "      <td>Alive... without a body... fed by an unspeakab...</td>\n",
       "      <td>transplantation|experiment|mutant|brain|fiancÃ©</td>\n",
       "      <td>Dr. Bill Cortner (Jason Evers) and his fiancÃ©...</td>\n",
       "      <td>82</td>\n",
       "      <td>Horror|Science Fiction</td>\n",
       "      <td>Rex Carlton Productions</td>\n",
       "      <td>2/25/62</td>\n",
       "      <td>1962</td>\n",
       "      <td>4.469238e+05</td>\n",
       "      <td>0.000000e+00</td>\n",
       "    </tr>\n",
       "    <tr>\n",
       "      <td>2</td>\n",
       "      <td>tt0053559</td>\n",
       "      <td>6.1</td>\n",
       "      <td>4812</td>\n",
       "      <td>29756</td>\n",
       "      <td>0.110511</td>\n",
       "      <td>0</td>\n",
       "      <td>0</td>\n",
       "      <td>13 Ghosts</td>\n",
       "      <td>Charles Herbert|Jo Morrow|Martin Milner|Rosema...</td>\n",
       "      <td>NaN</td>\n",
       "      <td>...</td>\n",
       "      <td>IT'S FUN TO BE SCARED BY 13 GHOSTS</td>\n",
       "      <td>haunted house</td>\n",
       "      <td>Reclusive Dr. Zorba has died and left his mans...</td>\n",
       "      <td>85</td>\n",
       "      <td>Horror</td>\n",
       "      <td>Columbia Pictures|William Castle Productions</td>\n",
       "      <td>8/5/60</td>\n",
       "      <td>1960</td>\n",
       "      <td>0.000000e+00</td>\n",
       "      <td>0.000000e+00</td>\n",
       "    </tr>\n",
       "    <tr>\n",
       "      <td>3</td>\n",
       "      <td>tt0053580</td>\n",
       "      <td>6.9</td>\n",
       "      <td>13405</td>\n",
       "      <td>11209</td>\n",
       "      <td>0.310398</td>\n",
       "      <td>0</td>\n",
       "      <td>0</td>\n",
       "      <td>The Alamo</td>\n",
       "      <td>John Wayne|Richard Widmark|Laurence Harvey|Fra...</td>\n",
       "      <td>NaN</td>\n",
       "      <td>...</td>\n",
       "      <td>The Mission That Became a Fortress! The Fortre...</td>\n",
       "      <td>texas|assault|alamo|mexican|mexican army</td>\n",
       "      <td>The legendary true story of a small band of so...</td>\n",
       "      <td>167</td>\n",
       "      <td>Action|Adventure|Drama|History|Western</td>\n",
       "      <td>United Artists|Batjac Productions|The Alamo Co...</td>\n",
       "      <td>10/24/60</td>\n",
       "      <td>1960</td>\n",
       "      <td>0.000000e+00</td>\n",
       "      <td>0.000000e+00</td>\n",
       "    </tr>\n",
       "    <tr>\n",
       "      <td>4</td>\n",
       "      <td>tt0053604</td>\n",
       "      <td>8.3</td>\n",
       "      <td>148239</td>\n",
       "      <td>284</td>\n",
       "      <td>0.947307</td>\n",
       "      <td>3000000</td>\n",
       "      <td>25000000</td>\n",
       "      <td>The Apartment</td>\n",
       "      <td>Jack Lemmon|Shirley MacLaine|Fred MacMurray|Ra...</td>\n",
       "      <td>NaN</td>\n",
       "      <td>...</td>\n",
       "      <td>Movie-wise, there has never been anything like...</td>\n",
       "      <td>new york|new year's eve|lovesickness|age diffe...</td>\n",
       "      <td>Bud Baxter is a minor clerk in a huge New York...</td>\n",
       "      <td>125</td>\n",
       "      <td>Comedy|Drama|Romance</td>\n",
       "      <td>United Artists|The Mirisch Company</td>\n",
       "      <td>6/15/60</td>\n",
       "      <td>1960</td>\n",
       "      <td>2.211890e+07</td>\n",
       "      <td>1.843242e+08</td>\n",
       "    </tr>\n",
       "  </tbody>\n",
       "</table>\n",
       "<p>5 rows × 21 columns</p>\n",
       "</div>"
      ],
      "text/plain": [
       "     imdb_id  averageRating  numVotes     id  popularity   budget   revenue  \\\n",
       "0  tt0035423            6.4     75099  11232    0.883228        0         0   \n",
       "1  tt0052646            4.4      5734  33468    0.215748    62000         0   \n",
       "2  tt0053559            6.1      4812  29756    0.110511        0         0   \n",
       "3  tt0053580            6.9     13405  11209    0.310398        0         0   \n",
       "4  tt0053604            8.3    148239    284    0.947307  3000000  25000000   \n",
       "\n",
       "                original_title  \\\n",
       "0               Kate & Leopold   \n",
       "1  The Brain That Wouldn't Die   \n",
       "2                    13 Ghosts   \n",
       "3                    The Alamo   \n",
       "4                The Apartment   \n",
       "\n",
       "                                                cast homepage  ...  \\\n",
       "0  Meg Ryan|Hugh Jackman|Liev Schreiber|Breckin M...      NaN  ...   \n",
       "1  Jason Evers|Virginia Leith|Doris Brent|Audrey ...      NaN  ...   \n",
       "2  Charles Herbert|Jo Morrow|Martin Milner|Rosema...      NaN  ...   \n",
       "3  John Wayne|Richard Widmark|Laurence Harvey|Fra...      NaN  ...   \n",
       "4  Jack Lemmon|Shirley MacLaine|Fred MacMurray|Ra...      NaN  ...   \n",
       "\n",
       "                                             tagline  \\\n",
       "0  If they lived in the same century they'd be pe...   \n",
       "1  Alive... without a body... fed by an unspeakab...   \n",
       "2                 IT'S FUN TO BE SCARED BY 13 GHOSTS   \n",
       "3  The Mission That Became a Fortress! The Fortre...   \n",
       "4  Movie-wise, there has never been anything like...   \n",
       "\n",
       "                                            keywords  \\\n",
       "0  lover (female)|love of one's life|time travel|...   \n",
       "1    transplantation|experiment|mutant|brain|fiancÃ©   \n",
       "2                                      haunted house   \n",
       "3           texas|assault|alamo|mexican|mexican army   \n",
       "4  new york|new year's eve|lovesickness|age diffe...   \n",
       "\n",
       "                                            overview runtime  \\\n",
       "0  When her scientist ex-boyfriend discovers a po...     118   \n",
       "1  Dr. Bill Cortner (Jason Evers) and his fiancÃ©...      82   \n",
       "2  Reclusive Dr. Zorba has died and left his mans...      85   \n",
       "3  The legendary true story of a small band of so...     167   \n",
       "4  Bud Baxter is a minor clerk in a huge New York...     125   \n",
       "\n",
       "                                   genres  \\\n",
       "0  Comedy|Fantasy|Romance|Science Fiction   \n",
       "1                  Horror|Science Fiction   \n",
       "2                                  Horror   \n",
       "3  Action|Adventure|Drama|History|Western   \n",
       "4                    Comedy|Drama|Romance   \n",
       "\n",
       "                                production_companies release_date  \\\n",
       "0                      Miramax Films|Konrad Pictures     12/25/01   \n",
       "1                            Rex Carlton Productions      2/25/62   \n",
       "2       Columbia Pictures|William Castle Productions       8/5/60   \n",
       "3  United Artists|Batjac Productions|The Alamo Co...     10/24/60   \n",
       "4                 United Artists|The Mirisch Company      6/15/60   \n",
       "\n",
       "  release_year    budget_adj   revenue_adj  \n",
       "0         2001  0.000000e+00  0.000000e+00  \n",
       "1         1962  4.469238e+05  0.000000e+00  \n",
       "2         1960  0.000000e+00  0.000000e+00  \n",
       "3         1960  0.000000e+00  0.000000e+00  \n",
       "4         1960  2.211890e+07  1.843242e+08  \n",
       "\n",
       "[5 rows x 21 columns]"
      ]
     },
     "execution_count": 4,
     "metadata": {},
     "output_type": "execute_result"
    }
   ],
   "source": [
    "data.head()"
   ]
  },
  {
   "cell_type": "code",
   "execution_count": 5,
   "metadata": {
    "scrolled": true,
    "slideshow": {
     "slide_type": "slide"
    }
   },
   "outputs": [
    {
     "name": "stdout",
     "output_type": "stream",
     "text": [
      "<class 'pandas.core.frame.DataFrame'>\n",
      "Int64Index: 10853 entries, 0 to 10852\n",
      "Data columns (total 21 columns):\n",
      "imdb_id                 10853 non-null object\n",
      "averageRating           10853 non-null float64\n",
      "numVotes                10853 non-null int64\n",
      "id                      10853 non-null int64\n",
      "popularity              10853 non-null float64\n",
      "budget                  10853 non-null int64\n",
      "revenue                 10853 non-null int64\n",
      "original_title          10853 non-null object\n",
      "cast                    10777 non-null object\n",
      "homepage                2933 non-null object\n",
      "director                10813 non-null object\n",
      "tagline                 8037 non-null object\n",
      "keywords                9367 non-null object\n",
      "overview                10850 non-null object\n",
      "runtime                 10853 non-null int64\n",
      "genres                  10832 non-null object\n",
      "production_companies    9828 non-null object\n",
      "release_date            10853 non-null object\n",
      "release_year            10853 non-null int64\n",
      "budget_adj              10853 non-null float64\n",
      "revenue_adj             10853 non-null float64\n",
      "dtypes: float64(4), int64(6), object(11)\n",
      "memory usage: 1.8+ MB\n"
     ]
    }
   ],
   "source": [
    "data.info()"
   ]
  },
  {
   "cell_type": "code",
   "execution_count": 6,
   "metadata": {
    "slideshow": {
     "slide_type": "slide"
    }
   },
   "outputs": [
    {
     "name": "stdout",
     "output_type": "stream",
     "text": [
      "Count of missing values(zeros) in budget_adj colm\n"
     ]
    },
    {
     "data": {
      "text/plain": [
       "imdb_id                 5685\n",
       "averageRating           5685\n",
       "numVotes                5685\n",
       "id                      5685\n",
       "popularity              5685\n",
       "budget                  5685\n",
       "revenue                 5685\n",
       "original_title          5685\n",
       "cast                    5620\n",
       "homepage                1227\n",
       "director                5649\n",
       "tagline                 3485\n",
       "keywords                4530\n",
       "overview                5682\n",
       "runtime                 5685\n",
       "genres                  5665\n",
       "production_companies    4795\n",
       "release_date            5685\n",
       "release_year            5685\n",
       "budget_adj              5685\n",
       "revenue_adj             5685\n",
       "dtype: int64"
      ]
     },
     "execution_count": 6,
     "metadata": {},
     "output_type": "execute_result"
    }
   ],
   "source": [
    "# Below shows significant amount of missing values. \n",
    "\n",
    "print('Count of missing values(zeros) in budget_adj colm')\n",
    "data[data['budget_adj'] == 0].count()"
   ]
  },
  {
   "cell_type": "code",
   "execution_count": 7,
   "metadata": {
    "slideshow": {
     "slide_type": "slide"
    }
   },
   "outputs": [
    {
     "name": "stdout",
     "output_type": "stream",
     "text": [
      "Count of missing values(zeros) in revenue_adj colm\n"
     ]
    },
    {
     "data": {
      "text/plain": [
       "imdb_id                 6004\n",
       "averageRating           6004\n",
       "numVotes                6004\n",
       "id                      6004\n",
       "popularity              6004\n",
       "budget                  6004\n",
       "revenue                 6004\n",
       "original_title          6004\n",
       "cast                    5933\n",
       "homepage                1268\n",
       "director                5965\n",
       "tagline                 3652\n",
       "keywords                4753\n",
       "overview                6001\n",
       "runtime                 6004\n",
       "genres                  5983\n",
       "production_companies    5075\n",
       "release_date            6004\n",
       "release_year            6004\n",
       "budget_adj              6004\n",
       "revenue_adj             6004\n",
       "dtype: int64"
      ]
     },
     "execution_count": 7,
     "metadata": {},
     "output_type": "execute_result"
    }
   ],
   "source": [
    "print('Count of missing values(zeros) in revenue_adj colm')\n",
    "data[data['revenue_adj'] == 0].count()"
   ]
  },
  {
   "cell_type": "code",
   "execution_count": 8,
   "metadata": {
    "scrolled": true,
    "slideshow": {
     "slide_type": "slide"
    }
   },
   "outputs": [
    {
     "name": "stdout",
     "output_type": "stream",
     "text": [
      "<class 'pandas.core.frame.DataFrame'>\n",
      "RangeIndex: 10866 entries, 0 to 10865\n",
      "Data columns (total 21 columns):\n",
      "id                      10866 non-null int64\n",
      "imdb_id                 10856 non-null object\n",
      "popularity              10866 non-null float64\n",
      "budget                  10866 non-null int64\n",
      "revenue                 10866 non-null int64\n",
      "original_title          10866 non-null object\n",
      "cast                    10790 non-null object\n",
      "homepage                2936 non-null object\n",
      "director                10822 non-null object\n",
      "tagline                 8042 non-null object\n",
      "keywords                9373 non-null object\n",
      "overview                10862 non-null object\n",
      "runtime                 10866 non-null int64\n",
      "genres                  10843 non-null object\n",
      "production_companies    9836 non-null object\n",
      "release_date            10866 non-null object\n",
      "vote_count              10866 non-null int64\n",
      "vote_average            10866 non-null float64\n",
      "release_year            10866 non-null int64\n",
      "budget_adj              10866 non-null float64\n",
      "revenue_adj             10866 non-null float64\n",
      "dtypes: float64(4), int64(6), object(11)\n",
      "memory usage: 1.7+ MB\n"
     ]
    }
   ],
   "source": [
    "data_tmdb.info()"
   ]
  },
  {
   "cell_type": "code",
   "execution_count": 9,
   "metadata": {
    "scrolled": true,
    "slideshow": {
     "slide_type": "slide"
    }
   },
   "outputs": [
    {
     "data": {
      "text/plain": [
       "imdb_id                    0\n",
       "averageRating              0\n",
       "numVotes                   0\n",
       "id                         0\n",
       "popularity                 0\n",
       "budget                     0\n",
       "revenue                    0\n",
       "original_title             0\n",
       "cast                      76\n",
       "homepage                7920\n",
       "director                  40\n",
       "tagline                 2816\n",
       "keywords                1486\n",
       "overview                   3\n",
       "runtime                    0\n",
       "genres                    21\n",
       "production_companies    1025\n",
       "release_date               0\n",
       "release_year               0\n",
       "budget_adj                 0\n",
       "revenue_adj                0\n",
       "dtype: int64"
      ]
     },
     "execution_count": 9,
     "metadata": {},
     "output_type": "execute_result"
    }
   ],
   "source": [
    "data.isna().sum()"
   ]
  },
  {
   "cell_type": "code",
   "execution_count": 10,
   "metadata": {
    "slideshow": {
     "slide_type": "slide"
    }
   },
   "outputs": [
    {
     "name": "stdout",
     "output_type": "stream",
     "text": [
      "Number of Duplicate Values 1\n"
     ]
    }
   ],
   "source": [
    "# Find number duplicated values\n",
    "dupl = data.duplicated().sum()\n",
    "print(\"Number of Duplicate Values\", dupl)"
   ]
  },
  {
   "cell_type": "markdown",
   "metadata": {
    "slideshow": {
     "slide_type": "slide"
    }
   },
   "source": [
    "## 2. Preprocessing"
   ]
  },
  {
   "cell_type": "markdown",
   "metadata": {
    "collapsed": true,
    "slideshow": {
     "slide_type": "slide"
    }
   },
   "source": [
    "#### For the preprocessing we should do several things:\n",
    "\n",
    "> <b>1.</b> There are a lot of null/nan elements in such essensial columns as budget_adj, revenue_adj, cast and genres. So we will fill missing numerical data with median of the recent data and missing categorical data with mode.\n",
    "<br>\n",
    "<br>\n",
    "> <b>2.</b> Such columns as homepage, keywords, tagline and production companies can be dropped, because they are not important features to predict revenue and it is hard to elaborate on such data using linear regression and trees, so we could just drop them."
   ]
  },
  {
   "cell_type": "markdown",
   "metadata": {
    "slideshow": {
     "slide_type": "slide"
    }
   },
   "source": [
    "> <b>3.</b> Genres and cast contain values wich divided by the symbol '|'. We should somehow divide it.\n",
    "<br>\n",
    "<br>\n",
    "> <b>4.</b> release_date should be in correct datatype."
   ]
  },
  {
   "cell_type": "code",
   "execution_count": 11,
   "metadata": {
    "slideshow": {
     "slide_type": "slide"
    }
   },
   "outputs": [],
   "source": [
    "# Removing budget and renvuue since revenue_adj and budget_adj is more appropriate since it considers inflation \n",
    "\n",
    "data.drop(['budget', 'revenue', 'homepage', 'keywords', 'tagline', 'production_companies'], axis=1, inplace=True)"
   ]
  },
  {
   "cell_type": "code",
   "execution_count": 12,
   "metadata": {
    "slideshow": {
     "slide_type": "slide"
    }
   },
   "outputs": [],
   "source": [
    "#changing type of date\n",
    "data['release_date'] = pd.to_datetime(data['release_date'])"
   ]
  },
  {
   "cell_type": "code",
   "execution_count": 13,
   "metadata": {
    "scrolled": true,
    "slideshow": {
     "slide_type": "slide"
    }
   },
   "outputs": [
    {
     "data": {
      "text/plain": [
       "0        0.0\n",
       "1        0.0\n",
       "2        0.0\n",
       "3        0.0\n",
       "6        0.0\n",
       "        ... \n",
       "10848    0.0\n",
       "10849    0.0\n",
       "10850    0.0\n",
       "10851    0.0\n",
       "10852    0.0\n",
       "Name: revenue_adj, Length: 6004, dtype: float64"
      ]
     },
     "execution_count": 13,
     "metadata": {},
     "output_type": "execute_result"
    }
   ],
   "source": [
    "data[data['revenue_adj'] == 0].revenue_adj.loc[:]"
   ]
  },
  {
   "cell_type": "code",
   "execution_count": 14,
   "metadata": {
    "scrolled": true,
    "slideshow": {
     "slide_type": "slide"
    }
   },
   "outputs": [
    {
     "name": "stdout",
     "output_type": "stream",
     "text": [
      "0        2.273559e+07\n",
      "1        4.469238e+05\n",
      "2        2.273559e+07\n",
      "3        2.273559e+07\n",
      "4        2.211890e+07\n",
      "             ...     \n",
      "10848    2.273559e+07\n",
      "10849    2.273559e+07\n",
      "10850    2.273559e+07\n",
      "10851    2.273559e+07\n",
      "10852    2.908194e+07\n",
      "Name: budget_adj, Length: 10853, dtype: float64\n",
      "0        4.395666e+07\n",
      "1        4.395666e+07\n",
      "2        4.395666e+07\n",
      "3        4.395666e+07\n",
      "4        1.843242e+08\n",
      "             ...     \n",
      "10848    4.395666e+07\n",
      "10849    4.395666e+07\n",
      "10850    4.395666e+07\n",
      "10851    4.395666e+07\n",
      "10852    4.395666e+07\n",
      "Name: revenue_adj, Length: 10853, dtype: float64\n"
     ]
    }
   ],
   "source": [
    "# Fill missing numerical data with median\n",
    "\n",
    "data.loc[data['budget_adj'] == 0, 'budget_adj'] = data[data['budget_adj'] != 0].budget_adj.median()\n",
    "print(data.budget_adj)\n",
    "\n",
    "data.loc[data['revenue_adj'] == 0, 'revenue_adj'] = data[data['revenue_adj'] != 0].revenue_adj.median()\n",
    "print(data.revenue_adj)"
   ]
  },
  {
   "cell_type": "code",
   "execution_count": 15,
   "metadata": {
    "scrolled": true,
    "slideshow": {
     "slide_type": "slide"
    }
   },
   "outputs": [
    {
     "data": {
      "text/html": [
       "<div>\n",
       "<style scoped>\n",
       "    .dataframe tbody tr th:only-of-type {\n",
       "        vertical-align: middle;\n",
       "    }\n",
       "\n",
       "    .dataframe tbody tr th {\n",
       "        vertical-align: top;\n",
       "    }\n",
       "\n",
       "    .dataframe thead th {\n",
       "        text-align: right;\n",
       "    }\n",
       "</style>\n",
       "<table border=\"1\" class=\"dataframe\">\n",
       "  <thead>\n",
       "    <tr style=\"text-align: right;\">\n",
       "      <th></th>\n",
       "      <th>imdb_id</th>\n",
       "      <th>averageRating</th>\n",
       "      <th>numVotes</th>\n",
       "      <th>id</th>\n",
       "      <th>popularity</th>\n",
       "      <th>original_title</th>\n",
       "      <th>cast</th>\n",
       "      <th>director</th>\n",
       "      <th>overview</th>\n",
       "      <th>runtime</th>\n",
       "      <th>genres</th>\n",
       "      <th>release_date</th>\n",
       "      <th>release_year</th>\n",
       "      <th>budget_adj</th>\n",
       "      <th>revenue_adj</th>\n",
       "    </tr>\n",
       "  </thead>\n",
       "  <tbody>\n",
       "    <tr>\n",
       "      <td>0</td>\n",
       "      <td>tt0035423</td>\n",
       "      <td>6.4</td>\n",
       "      <td>75099</td>\n",
       "      <td>11232</td>\n",
       "      <td>0.883228</td>\n",
       "      <td>Kate &amp; Leopold</td>\n",
       "      <td>Meg Ryan|Hugh Jackman|Liev Schreiber|Breckin M...</td>\n",
       "      <td>James Mangold</td>\n",
       "      <td>When her scientist ex-boyfriend discovers a po...</td>\n",
       "      <td>118</td>\n",
       "      <td>Comedy|Fantasy|Romance|Science Fiction</td>\n",
       "      <td>2001-12-25</td>\n",
       "      <td>2001</td>\n",
       "      <td>2.273559e+07</td>\n",
       "      <td>4.395666e+07</td>\n",
       "    </tr>\n",
       "    <tr>\n",
       "      <td>1</td>\n",
       "      <td>tt0052646</td>\n",
       "      <td>4.4</td>\n",
       "      <td>5734</td>\n",
       "      <td>33468</td>\n",
       "      <td>0.215748</td>\n",
       "      <td>The Brain That Wouldn't Die</td>\n",
       "      <td>Jason Evers|Virginia Leith|Doris Brent|Audrey ...</td>\n",
       "      <td>Joseph Green</td>\n",
       "      <td>Dr. Bill Cortner (Jason Evers) and his fiancÃ©...</td>\n",
       "      <td>82</td>\n",
       "      <td>Horror|Science Fiction</td>\n",
       "      <td>2062-02-25</td>\n",
       "      <td>1962</td>\n",
       "      <td>4.469238e+05</td>\n",
       "      <td>4.395666e+07</td>\n",
       "    </tr>\n",
       "    <tr>\n",
       "      <td>2</td>\n",
       "      <td>tt0053559</td>\n",
       "      <td>6.1</td>\n",
       "      <td>4812</td>\n",
       "      <td>29756</td>\n",
       "      <td>0.110511</td>\n",
       "      <td>13 Ghosts</td>\n",
       "      <td>Charles Herbert|Jo Morrow|Martin Milner|Rosema...</td>\n",
       "      <td>William Castle</td>\n",
       "      <td>Reclusive Dr. Zorba has died and left his mans...</td>\n",
       "      <td>85</td>\n",
       "      <td>Horror</td>\n",
       "      <td>2060-08-05</td>\n",
       "      <td>1960</td>\n",
       "      <td>2.273559e+07</td>\n",
       "      <td>4.395666e+07</td>\n",
       "    </tr>\n",
       "    <tr>\n",
       "      <td>3</td>\n",
       "      <td>tt0053580</td>\n",
       "      <td>6.9</td>\n",
       "      <td>13405</td>\n",
       "      <td>11209</td>\n",
       "      <td>0.310398</td>\n",
       "      <td>The Alamo</td>\n",
       "      <td>John Wayne|Richard Widmark|Laurence Harvey|Fra...</td>\n",
       "      <td>John Wayne</td>\n",
       "      <td>The legendary true story of a small band of so...</td>\n",
       "      <td>167</td>\n",
       "      <td>Action|Adventure|Drama|History|Western</td>\n",
       "      <td>2060-10-24</td>\n",
       "      <td>1960</td>\n",
       "      <td>2.273559e+07</td>\n",
       "      <td>4.395666e+07</td>\n",
       "    </tr>\n",
       "    <tr>\n",
       "      <td>4</td>\n",
       "      <td>tt0053604</td>\n",
       "      <td>8.3</td>\n",
       "      <td>148239</td>\n",
       "      <td>284</td>\n",
       "      <td>0.947307</td>\n",
       "      <td>The Apartment</td>\n",
       "      <td>Jack Lemmon|Shirley MacLaine|Fred MacMurray|Ra...</td>\n",
       "      <td>Billy Wilder</td>\n",
       "      <td>Bud Baxter is a minor clerk in a huge New York...</td>\n",
       "      <td>125</td>\n",
       "      <td>Comedy|Drama|Romance</td>\n",
       "      <td>2060-06-15</td>\n",
       "      <td>1960</td>\n",
       "      <td>2.211890e+07</td>\n",
       "      <td>1.843242e+08</td>\n",
       "    </tr>\n",
       "  </tbody>\n",
       "</table>\n",
       "</div>"
      ],
      "text/plain": [
       "     imdb_id  averageRating  numVotes     id  popularity  \\\n",
       "0  tt0035423            6.4     75099  11232    0.883228   \n",
       "1  tt0052646            4.4      5734  33468    0.215748   \n",
       "2  tt0053559            6.1      4812  29756    0.110511   \n",
       "3  tt0053580            6.9     13405  11209    0.310398   \n",
       "4  tt0053604            8.3    148239    284    0.947307   \n",
       "\n",
       "                original_title  \\\n",
       "0               Kate & Leopold   \n",
       "1  The Brain That Wouldn't Die   \n",
       "2                    13 Ghosts   \n",
       "3                    The Alamo   \n",
       "4                The Apartment   \n",
       "\n",
       "                                                cast        director  \\\n",
       "0  Meg Ryan|Hugh Jackman|Liev Schreiber|Breckin M...   James Mangold   \n",
       "1  Jason Evers|Virginia Leith|Doris Brent|Audrey ...    Joseph Green   \n",
       "2  Charles Herbert|Jo Morrow|Martin Milner|Rosema...  William Castle   \n",
       "3  John Wayne|Richard Widmark|Laurence Harvey|Fra...      John Wayne   \n",
       "4  Jack Lemmon|Shirley MacLaine|Fred MacMurray|Ra...    Billy Wilder   \n",
       "\n",
       "                                            overview  runtime  \\\n",
       "0  When her scientist ex-boyfriend discovers a po...      118   \n",
       "1  Dr. Bill Cortner (Jason Evers) and his fiancÃ©...       82   \n",
       "2  Reclusive Dr. Zorba has died and left his mans...       85   \n",
       "3  The legendary true story of a small band of so...      167   \n",
       "4  Bud Baxter is a minor clerk in a huge New York...      125   \n",
       "\n",
       "                                   genres release_date  release_year  \\\n",
       "0  Comedy|Fantasy|Romance|Science Fiction   2001-12-25          2001   \n",
       "1                  Horror|Science Fiction   2062-02-25          1962   \n",
       "2                                  Horror   2060-08-05          1960   \n",
       "3  Action|Adventure|Drama|History|Western   2060-10-24          1960   \n",
       "4                    Comedy|Drama|Romance   2060-06-15          1960   \n",
       "\n",
       "     budget_adj   revenue_adj  \n",
       "0  2.273559e+07  4.395666e+07  \n",
       "1  4.469238e+05  4.395666e+07  \n",
       "2  2.273559e+07  4.395666e+07  \n",
       "3  2.273559e+07  4.395666e+07  \n",
       "4  2.211890e+07  1.843242e+08  "
      ]
     },
     "execution_count": 15,
     "metadata": {},
     "output_type": "execute_result"
    }
   ],
   "source": [
    "data.head()"
   ]
  },
  {
   "cell_type": "code",
   "execution_count": 16,
   "metadata": {
    "scrolled": true,
    "slideshow": {
     "slide_type": "slide"
    }
   },
   "outputs": [
    {
     "name": "stdout",
     "output_type": "stream",
     "text": [
      "<class 'pandas.core.frame.DataFrame'>\n",
      "Int64Index: 10853 entries, 0 to 10852\n",
      "Data columns (total 15 columns):\n",
      "imdb_id           10853 non-null object\n",
      "averageRating     10853 non-null float64\n",
      "numVotes          10853 non-null int64\n",
      "id                10853 non-null int64\n",
      "popularity        10853 non-null float64\n",
      "original_title    10853 non-null object\n",
      "cast              10777 non-null object\n",
      "director          10813 non-null object\n",
      "overview          10850 non-null object\n",
      "runtime           10853 non-null int64\n",
      "genres            10832 non-null object\n",
      "release_date      10853 non-null datetime64[ns]\n",
      "release_year      10853 non-null int64\n",
      "budget_adj        10853 non-null float64\n",
      "revenue_adj       10853 non-null float64\n",
      "dtypes: datetime64[ns](1), float64(4), int64(4), object(6)\n",
      "memory usage: 1.3+ MB\n"
     ]
    }
   ],
   "source": [
    "data.info()"
   ]
  },
  {
   "cell_type": "code",
   "execution_count": 17,
   "metadata": {
    "slideshow": {
     "slide_type": "slide"
    }
   },
   "outputs": [],
   "source": [
    "data.dropna(inplace = True)"
   ]
  },
  {
   "cell_type": "code",
   "execution_count": 18,
   "metadata": {
    "slideshow": {
     "slide_type": "slide"
    }
   },
   "outputs": [
    {
     "name": "stdout",
     "output_type": "stream",
     "text": [
      "<class 'pandas.core.frame.DataFrame'>\n",
      "Int64Index: 10722 entries, 0 to 10852\n",
      "Data columns (total 15 columns):\n",
      "imdb_id           10722 non-null object\n",
      "averageRating     10722 non-null float64\n",
      "numVotes          10722 non-null int64\n",
      "id                10722 non-null int64\n",
      "popularity        10722 non-null float64\n",
      "original_title    10722 non-null object\n",
      "cast              10722 non-null object\n",
      "director          10722 non-null object\n",
      "overview          10722 non-null object\n",
      "runtime           10722 non-null int64\n",
      "genres            10722 non-null object\n",
      "release_date      10722 non-null datetime64[ns]\n",
      "release_year      10722 non-null int64\n",
      "budget_adj        10722 non-null float64\n",
      "revenue_adj       10722 non-null float64\n",
      "dtypes: datetime64[ns](1), float64(4), int64(4), object(6)\n",
      "memory usage: 1.3+ MB\n"
     ]
    }
   ],
   "source": [
    "data.info()"
   ]
  },
  {
   "cell_type": "code",
   "execution_count": 19,
   "metadata": {
    "slideshow": {
     "slide_type": "slide"
    }
   },
   "outputs": [],
   "source": [
    "# Copy the dataframe so that the main dataframe remains unaffected\n",
    "\n",
    "data_prep = data.copy(deep=True)"
   ]
  },
  {
   "cell_type": "markdown",
   "metadata": {
    "slideshow": {
     "slide_type": "slide"
    }
   },
   "source": [
    "##### Hypothesis 1 (budget/ revenue correlation)"
   ]
  },
  {
   "cell_type": "code",
   "execution_count": 20,
   "metadata": {
    "slideshow": {
     "slide_type": "slide"
    }
   },
   "outputs": [
    {
     "data": {
      "image/png": "[encoded data removed]",
      "text/plain": [
       "<Figure size 432x288 with 1 Axes>"
      ]
     },
     "metadata": {
      "needs_background": "light"
     },
     "output_type": "display_data"
    }
   ],
   "source": [
    "# Scatter plot of budget and revenue\n",
    "\n",
    "sns.regplot(x = 'budget_adj', y = 'revenue_adj', data=data_prep, scatter_kws={'alpha':0.3});\n",
    "\n",
    "# Show good correlation"
   ]
  },
  {
   "cell_type": "markdown",
   "metadata": {
    "slideshow": {
     "slide_type": "slide"
    }
   },
   "source": [
    "From the grath we could observe is positive correlation between budjet and revenue:  as the budget increases the average revenue of a movie also increases."
   ]
  },
  {
   "cell_type": "markdown",
   "metadata": {
    "slideshow": {
     "slide_type": "slide"
    }
   },
   "source": [
    "##### Hypothesis 2 ( top actors/ revenue correlation) "
   ]
  },
  {
   "cell_type": "markdown",
   "metadata": {
    "slideshow": {
     "slide_type": "slide"
    }
   },
   "source": [
    "Firstly, let's devided cast in different rows to analyze each actor impact on the film revenue."
   ]
  },
  {
   "cell_type": "code",
   "execution_count": 21,
   "metadata": {
    "scrolled": true,
    "slideshow": {
     "slide_type": "slide"
    }
   },
   "outputs": [
    {
     "data": {
      "text/plain": [
       "'Charles Herbert|Jo Morrow|Martin Milner|Rosemary DeCamp|Margaret Hamilton'"
      ]
     },
     "execution_count": 21,
     "metadata": {},
     "output_type": "execute_result"
    }
   ],
   "source": [
    "data_prep.cast[2]"
   ]
  },
  {
   "cell_type": "markdown",
   "metadata": {
    "slideshow": {
     "slide_type": "slide"
    }
   },
   "source": [
    "There is only 5 actors in cast for each film, so we could easily devided them"
   ]
  },
  {
   "cell_type": "code",
   "execution_count": 22,
   "metadata": {
    "slideshow": {
     "slide_type": "slide"
    }
   },
   "outputs": [],
   "source": [
    "# Copy the dataframe so that the main dataframe remains unaffected\n",
    "\n",
    "data_prep_actors = data.copy(deep=True)"
   ]
  },
  {
   "cell_type": "markdown",
   "metadata": {
    "slideshow": {
     "slide_type": "slide"
    }
   },
   "source": [
    "Cleaning the dataset according to requirments and only keeping those columns that are actually needed."
   ]
  },
  {
   "cell_type": "code",
   "execution_count": 23,
   "metadata": {
    "slideshow": {
     "slide_type": "slide"
    }
   },
   "outputs": [],
   "source": [
    "data_prep_actors.drop(data_prep_actors.columns.difference(['imdb_id', 'original_title', 'cast','revenue_adj']), 1, inplace=True)\n",
    "\n",
    "# Splitting the various actors using the delimeter \n",
    "data_prep_actors.cast = data_prep_actors.cast.str.split('|')"
   ]
  },
  {
   "cell_type": "markdown",
   "metadata": {
    "slideshow": {
     "slide_type": "slide"
    }
   },
   "source": [
    "Explode function will devide cast in different rows"
   ]
  },
  {
   "cell_type": "code",
   "execution_count": 24,
   "metadata": {
    "slideshow": {
     "slide_type": "slide"
    }
   },
   "outputs": [],
   "source": [
    "def explode(data, lst_cols, fill_value=''):\n",
    "    # make sure `lst_cols` is a list\n",
    "    if lst_cols and not isinstance(lst_cols, list):\n",
    "        lst_cols = [lst_cols]\n",
    "    # all columns except `lst_cols`\n",
    "    idx_cols = data.columns.difference(lst_cols)\n",
    "\n",
    "    # calculate lengths of lists\n",
    "    lens = data[lst_cols[0]].str.len()\n",
    "\n",
    "    if (lens > 0).all():\n",
    "        # ALL lists in cells aren't empty\n",
    "        return pd.DataFrame({\n",
    "            col:np.repeat(data[col].values, lens)\n",
    "            for col in idx_cols\n",
    "        }).assign(**{col:np.concatenate(data[col].values) for col in lst_cols}) \\\n",
    "          .loc[:, data.columns]\n",
    "    else:\n",
    "        # at least one list in cells is empty\n",
    "        return pd.DataFrame({\n",
    "            col:np.repeat(data[col].values, lens)\n",
    "            for col in idx_cols\n",
    "        }).assign(**{col:np.concatenate(data[col].values) for col in lst_cols}) \\\n",
    "          .append(data.loc[lens==0, idx_cols]).fillna(fill_value) \\\n",
    "          .loc[:, data.columns]"
   ]
  },
  {
   "cell_type": "code",
   "execution_count": 25,
   "metadata": {
    "slideshow": {
     "slide_type": "slide"
    }
   },
   "outputs": [],
   "source": [
    "# Dropping null values and calling the explode function\n",
    "\n",
    "data_prep_actors.dropna(inplace = True);\n",
    "data_prep_actors = explode(data_prep_actors, ['cast'])"
   ]
  },
  {
   "cell_type": "code",
   "execution_count": 26,
   "metadata": {
    "slideshow": {
     "slide_type": "slide"
    }
   },
   "outputs": [
    {
     "name": "stdout",
     "output_type": "stream",
     "text": [
      "<class 'pandas.core.frame.DataFrame'>\n",
      "RangeIndex: 52294 entries, 0 to 52293\n",
      "Data columns (total 4 columns):\n",
      "imdb_id           52294 non-null object\n",
      "original_title    52294 non-null object\n",
      "cast              52294 non-null object\n",
      "revenue_adj       52294 non-null float64\n",
      "dtypes: float64(1), object(3)\n",
      "memory usage: 1.6+ MB\n"
     ]
    }
   ],
   "source": [
    "data_prep_actors.info()"
   ]
  },
  {
   "cell_type": "markdown",
   "metadata": {
    "slideshow": {
     "slide_type": "slide"
    }
   },
   "source": [
    "There are a lot of data, so let's group films by actors and consider only actors, who have starred in a lot of films."
   ]
  },
  {
   "cell_type": "code",
   "execution_count": 27,
   "metadata": {
    "slideshow": {
     "slide_type": "slide"
    }
   },
   "outputs": [],
   "source": [
    "top_actors = (data_prep_actors.groupby('cast')['original_title'].count()).sort_values(ascending=False)"
   ]
  },
  {
   "cell_type": "code",
   "execution_count": 28,
   "metadata": {
    "scrolled": true,
    "slideshow": {
     "slide_type": "slide"
    }
   },
   "outputs": [
    {
     "data": {
      "image/png": "[encoded data removed]",
      "text/plain": [
       "<Figure size 1080x792 with 1 Axes>"
      ]
     },
     "metadata": {
      "needs_background": "light"
     },
     "output_type": "display_data"
    }
   ],
   "source": [
    "# List of top actors\n",
    "\n",
    "top_actors[:30].plot(kind='bar', figsize=(15,11), title='Number of movies with top 30 actors').yaxis.label.set_visible(False)"
   ]
  },
  {
   "cell_type": "markdown",
   "metadata": {
    "slideshow": {
     "slide_type": "slide"
    }
   },
   "source": [
    "From the grath we could observe that Robert De Niro and Samuel L. Jackson participated in more films, than other actors"
   ]
  },
  {
   "cell_type": "code",
   "execution_count": 29,
   "metadata": {
    "slideshow": {
     "slide_type": "slide"
    }
   },
   "outputs": [],
   "source": [
    "# Now create a new dataframe which only contain the rows belonging to the movies, where only top 30 actors participated \n",
    "\n",
    "data_topActors = pd.DataFrame()\n",
    "for actor,v in top_actors[:30].items():\n",
    "    data_topActors =data_topActors.append(data_prep_actors[data_prep_actors['cast'].str.contains(actor)],ignore_index=True)"
   ]
  },
  {
   "cell_type": "code",
   "execution_count": 30,
   "metadata": {
    "slideshow": {
     "slide_type": "slide"
    }
   },
   "outputs": [
    {
     "name": "stdout",
     "output_type": "stream",
     "text": [
      "<class 'pandas.core.frame.DataFrame'>\n",
      "RangeIndex: 1458 entries, 0 to 1457\n",
      "Data columns (total 4 columns):\n",
      "imdb_id           1458 non-null object\n",
      "original_title    1458 non-null object\n",
      "cast              1458 non-null object\n",
      "revenue_adj       1458 non-null float64\n",
      "dtypes: float64(1), object(3)\n",
      "memory usage: 45.7+ KB\n"
     ]
    }
   ],
   "source": [
    "data_topActors.info()"
   ]
  },
  {
   "cell_type": "code",
   "execution_count": 31,
   "metadata": {
    "slideshow": {
     "slide_type": "slide"
    }
   },
   "outputs": [],
   "source": [
    "# Take the mean of the revenue produced by all the movies, where each actor participated\n",
    "\n",
    "data_topActorsRevenue = data_topActors.groupby(['cast']).mean()"
   ]
  },
  {
   "cell_type": "code",
   "execution_count": 32,
   "metadata": {
    "slideshow": {
     "slide_type": "slide"
    }
   },
   "outputs": [],
   "source": [
    "# Extract the relavent coloumns needed for plotting\n",
    "\n",
    "data_topActorsRevenue =data_topActorsRevenue.drop(data_topActorsRevenue.columns.difference(['cast','revenue_adj']), 1)"
   ]
  },
  {
   "cell_type": "code",
   "execution_count": 33,
   "metadata": {
    "slideshow": {
     "slide_type": "slide"
    }
   },
   "outputs": [],
   "source": [
    "# Sort the revenue coloumn in descending order\n",
    "\n",
    "data_topActorsRevenue = data_topActorsRevenue.sort_values(by = 'revenue_adj', ascending=1)"
   ]
  },
  {
   "cell_type": "code",
   "execution_count": 34,
   "metadata": {
    "slideshow": {
     "slide_type": "slide"
    }
   },
   "outputs": [
    {
     "data": {
      "text/plain": [
       "<matplotlib.axes._subplots.AxesSubplot at 0x1e52df39e80>"
      ]
     },
     "execution_count": 34,
     "metadata": {},
     "output_type": "execute_result"
    },
    {
     "data": {
      "image/png": "[encoded data removed]",
      "text/plain": [
       "<Figure size 720x720 with 1 Axes>"
      ]
     },
     "metadata": {
      "needs_background": "light"
     },
     "output_type": "display_data"
    }
   ],
   "source": [
    "data_topActorsRevenue.plot(kind='barh', figsize=(10, 10), sort_columns='True', title='Average Revenue of Movies per actor' )"
   ]
  },
  {
   "cell_type": "markdown",
   "metadata": {
    "slideshow": {
     "slide_type": "slide"
    }
   },
   "source": [
    "From the grath we observe that Harrison Ford is the actor with the higherst revenue. Let's see how revenue distribute by movies, where he participated."
   ]
  },
  {
   "cell_type": "code",
   "execution_count": 35,
   "metadata": {
    "slideshow": {
     "slide_type": "slide"
    }
   },
   "outputs": [],
   "source": [
    "# Extract rows containing movies, where Harrison Ford has participated\n",
    "\n",
    "Harrison_Ford=data_topActors[data_topActors['cast'].str.contains('Harrison Ford')].sort_values(by='revenue_adj', ascending=0)"
   ]
  },
  {
   "cell_type": "code",
   "execution_count": 36,
   "metadata": {
    "slideshow": {
     "slide_type": "slide"
    }
   },
   "outputs": [
    {
     "data": {
      "text/html": [
       "<div>\n",
       "<style scoped>\n",
       "    .dataframe tbody tr th:only-of-type {\n",
       "        vertical-align: middle;\n",
       "    }\n",
       "\n",
       "    .dataframe tbody tr th {\n",
       "        vertical-align: top;\n",
       "    }\n",
       "\n",
       "    .dataframe thead th {\n",
       "        text-align: right;\n",
       "    }\n",
       "</style>\n",
       "<table border=\"1\" class=\"dataframe\">\n",
       "  <thead>\n",
       "    <tr style=\"text-align: right;\">\n",
       "      <th></th>\n",
       "      <th>imdb_id</th>\n",
       "      <th>original_title</th>\n",
       "      <th>cast</th>\n",
       "      <th>revenue_adj</th>\n",
       "    </tr>\n",
       "  </thead>\n",
       "  <tbody>\n",
       "    <tr>\n",
       "      <td>1417</td>\n",
       "      <td>tt0076759</td>\n",
       "      <td>Star Wars</td>\n",
       "      <td>Harrison Ford</td>\n",
       "      <td>2.789712e+09</td>\n",
       "    </tr>\n",
       "    <tr>\n",
       "      <td>1457</td>\n",
       "      <td>tt2488496</td>\n",
       "      <td>Star Wars: The Force Awakens</td>\n",
       "      <td>Harrison Ford</td>\n",
       "      <td>1.902723e+09</td>\n",
       "    </tr>\n",
       "    <tr>\n",
       "      <td>1421</td>\n",
       "      <td>tt0080684</td>\n",
       "      <td>The Empire Strikes Back</td>\n",
       "      <td>Harrison Ford</td>\n",
       "      <td>1.424626e+09</td>\n",
       "    </tr>\n",
       "    <tr>\n",
       "      <td>1424</td>\n",
       "      <td>tt0086190</td>\n",
       "      <td>Return of the Jedi</td>\n",
       "      <td>Harrison Ford</td>\n",
       "      <td>1.253819e+09</td>\n",
       "    </tr>\n",
       "    <tr>\n",
       "      <td>1422</td>\n",
       "      <td>tt0082971</td>\n",
       "      <td>Raiders of the Lost Ark</td>\n",
       "      <td>Harrison Ford</td>\n",
       "      <td>9.351169e+08</td>\n",
       "    </tr>\n",
       "    <tr>\n",
       "      <td>1430</td>\n",
       "      <td>tt0097576</td>\n",
       "      <td>Indiana Jones and the Last Crusade</td>\n",
       "      <td>Harrison Ford</td>\n",
       "      <td>8.340611e+08</td>\n",
       "    </tr>\n",
       "    <tr>\n",
       "      <td>1445</td>\n",
       "      <td>tt0367882</td>\n",
       "      <td>Indiana Jones and the Kingdom of the Crystal S...</td>\n",
       "      <td>Harrison Ford</td>\n",
       "      <td>7.966945e+08</td>\n",
       "    </tr>\n",
       "    <tr>\n",
       "      <td>1425</td>\n",
       "      <td>tt0087469</td>\n",
       "      <td>Indiana Jones and the Temple of Doom</td>\n",
       "      <td>Harrison Ford</td>\n",
       "      <td>6.989810e+08</td>\n",
       "    </tr>\n",
       "    <tr>\n",
       "      <td>1434</td>\n",
       "      <td>tt0106977</td>\n",
       "      <td>The Fugitive</td>\n",
       "      <td>Harrison Ford</td>\n",
       "      <td>5.568069e+08</td>\n",
       "    </tr>\n",
       "    <tr>\n",
       "      <td>1437</td>\n",
       "      <td>tt0118571</td>\n",
       "      <td>Air Force One</td>\n",
       "      <td>Harrison Ford</td>\n",
       "      <td>4.281275e+08</td>\n",
       "    </tr>\n",
       "    <tr>\n",
       "      <td>1431</td>\n",
       "      <td>tt0100404</td>\n",
       "      <td>Presumed Innocent</td>\n",
       "      <td>Harrison Ford</td>\n",
       "      <td>3.693326e+08</td>\n",
       "    </tr>\n",
       "    <tr>\n",
       "      <td>1435</td>\n",
       "      <td>tt0109444</td>\n",
       "      <td>Clear and Present Danger</td>\n",
       "      <td>Harrison Ford</td>\n",
       "      <td>3.175949e+08</td>\n",
       "    </tr>\n",
       "    <tr>\n",
       "      <td>1433</td>\n",
       "      <td>tt0105112</td>\n",
       "      <td>Patriot Games</td>\n",
       "      <td>Harrison Ford</td>\n",
       "      <td>2.766965e+08</td>\n",
       "    </tr>\n",
       "    <tr>\n",
       "      <td>1439</td>\n",
       "      <td>tt0120828</td>\n",
       "      <td>Six Days Seven Nights</td>\n",
       "      <td>Harrison Ford</td>\n",
       "      <td>2.193821e+08</td>\n",
       "    </tr>\n",
       "    <tr>\n",
       "      <td>1441</td>\n",
       "      <td>tt0161081</td>\n",
       "      <td>What Lies Beneath</td>\n",
       "      <td>Harrison Ford</td>\n",
       "      <td>1.968633e+08</td>\n",
       "    </tr>\n",
       "    <tr>\n",
       "      <td>1438</td>\n",
       "      <td>tt0118972</td>\n",
       "      <td>The Devil's Own</td>\n",
       "      <td>Harrison Ford</td>\n",
       "      <td>1.912815e+08</td>\n",
       "    </tr>\n",
       "    <tr>\n",
       "      <td>1429</td>\n",
       "      <td>tt0096463</td>\n",
       "      <td>Working Girl</td>\n",
       "      <td>Harrison Ford</td>\n",
       "      <td>1.902409e+08</td>\n",
       "    </tr>\n",
       "    <tr>\n",
       "      <td>1456</td>\n",
       "      <td>tt2333784</td>\n",
       "      <td>The Expendables 3</td>\n",
       "      <td>Harrison Ford</td>\n",
       "      <td>1.899037e+08</td>\n",
       "    </tr>\n",
       "    <tr>\n",
       "      <td>1448</td>\n",
       "      <td>tt0409847</td>\n",
       "      <td>Cowboys &amp; Aliens</td>\n",
       "      <td>Harrison Ford</td>\n",
       "      <td>1.694724e+08</td>\n",
       "    </tr>\n",
       "    <tr>\n",
       "      <td>1426</td>\n",
       "      <td>tt0090329</td>\n",
       "      <td>Witness</td>\n",
       "      <td>Harrison Ford</td>\n",
       "      <td>1.392805e+08</td>\n",
       "    </tr>\n",
       "    <tr>\n",
       "      <td>1455</td>\n",
       "      <td>tt1731141</td>\n",
       "      <td>Ender's Game</td>\n",
       "      <td>Harrison Ford</td>\n",
       "      <td>1.175070e+08</td>\n",
       "    </tr>\n",
       "    <tr>\n",
       "      <td>1440</td>\n",
       "      <td>tt0156934</td>\n",
       "      <td>Random Hearts</td>\n",
       "      <td>Harrison Ford</td>\n",
       "      <td>9.766656e+07</td>\n",
       "    </tr>\n",
       "    <tr>\n",
       "      <td>1447</td>\n",
       "      <td>tt0408345</td>\n",
       "      <td>Firewall</td>\n",
       "      <td>Harrison Ford</td>\n",
       "      <td>8.956221e+07</td>\n",
       "    </tr>\n",
       "    <tr>\n",
       "      <td>1449</td>\n",
       "      <td>tt0453562</td>\n",
       "      <td>42</td>\n",
       "      <td>Harrison Ford</td>\n",
       "      <td>8.894209e+07</td>\n",
       "    </tr>\n",
       "    <tr>\n",
       "      <td>1423</td>\n",
       "      <td>tt0083658</td>\n",
       "      <td>Blade Runner</td>\n",
       "      <td>Harrison Ford</td>\n",
       "      <td>7.404548e+07</td>\n",
       "    </tr>\n",
       "    <tr>\n",
       "      <td>1444</td>\n",
       "      <td>tt0329717</td>\n",
       "      <td>Hollywood Homicide</td>\n",
       "      <td>Harrison Ford</td>\n",
       "      <td>6.062209e+07</td>\n",
       "    </tr>\n",
       "    <tr>\n",
       "      <td>1451</td>\n",
       "      <td>tt1126618</td>\n",
       "      <td>Morning Glory</td>\n",
       "      <td>Harrison Ford</td>\n",
       "      <td>5.878518e+07</td>\n",
       "    </tr>\n",
       "    <tr>\n",
       "      <td>1446</td>\n",
       "      <td>tt0395656</td>\n",
       "      <td>Indiana Jones: Making the Trilogy</td>\n",
       "      <td>Harrison Ford</td>\n",
       "      <td>4.395666e+07</td>\n",
       "    </tr>\n",
       "    <tr>\n",
       "      <td>1442</td>\n",
       "      <td>tt0193524</td>\n",
       "      <td>The Star Wars Holiday Special</td>\n",
       "      <td>Harrison Ford</td>\n",
       "      <td>4.395666e+07</td>\n",
       "    </tr>\n",
       "    <tr>\n",
       "      <td>1419</td>\n",
       "      <td>tt0079180</td>\n",
       "      <td>The Frisco Kid</td>\n",
       "      <td>Harrison Ford</td>\n",
       "      <td>4.395666e+07</td>\n",
       "    </tr>\n",
       "    <tr>\n",
       "      <td>1436</td>\n",
       "      <td>tt0114319</td>\n",
       "      <td>Sabrina</td>\n",
       "      <td>Harrison Ford</td>\n",
       "      <td>4.395666e+07</td>\n",
       "    </tr>\n",
       "    <tr>\n",
       "      <td>1420</td>\n",
       "      <td>tt0079268</td>\n",
       "      <td>Hanover Street</td>\n",
       "      <td>Harrison Ford</td>\n",
       "      <td>4.395666e+07</td>\n",
       "    </tr>\n",
       "    <tr>\n",
       "      <td>1432</td>\n",
       "      <td>tt0102768</td>\n",
       "      <td>Regarding Henry</td>\n",
       "      <td>Harrison Ford</td>\n",
       "      <td>4.395666e+07</td>\n",
       "    </tr>\n",
       "    <tr>\n",
       "      <td>1443</td>\n",
       "      <td>tt0267626</td>\n",
       "      <td>K-19: The Widowmaker</td>\n",
       "      <td>Harrison Ford</td>\n",
       "      <td>4.263398e+07</td>\n",
       "    </tr>\n",
       "    <tr>\n",
       "      <td>1454</td>\n",
       "      <td>tt1655441</td>\n",
       "      <td>The Age of Adaline</td>\n",
       "      <td>Harrison Ford</td>\n",
       "      <td>3.921938e+07</td>\n",
       "    </tr>\n",
       "    <tr>\n",
       "      <td>1428</td>\n",
       "      <td>tt0095174</td>\n",
       "      <td>Frantic</td>\n",
       "      <td>Harrison Ford</td>\n",
       "      <td>3.252246e+07</td>\n",
       "    </tr>\n",
       "    <tr>\n",
       "      <td>1427</td>\n",
       "      <td>tt0091557</td>\n",
       "      <td>The Mosquito Coast</td>\n",
       "      <td>Harrison Ford</td>\n",
       "      <td>2.845404e+07</td>\n",
       "    </tr>\n",
       "    <tr>\n",
       "      <td>1418</td>\n",
       "      <td>tt0077572</td>\n",
       "      <td>Force 10 from Navarone</td>\n",
       "      <td>Harrison Ford</td>\n",
       "      <td>2.416773e+07</td>\n",
       "    </tr>\n",
       "    <tr>\n",
       "      <td>1416</td>\n",
       "      <td>tt0071360</td>\n",
       "      <td>The Conversation</td>\n",
       "      <td>Harrison Ford</td>\n",
       "      <td>1.954649e+07</td>\n",
       "    </tr>\n",
       "    <tr>\n",
       "      <td>1452</td>\n",
       "      <td>tt1244659</td>\n",
       "      <td>Extraordinary Measures</td>\n",
       "      <td>Harrison Ford</td>\n",
       "      <td>1.513429e+07</td>\n",
       "    </tr>\n",
       "    <tr>\n",
       "      <td>1453</td>\n",
       "      <td>tt1413495</td>\n",
       "      <td>Paranoia</td>\n",
       "      <td>Harrison Ford</td>\n",
       "      <td>1.290323e+07</td>\n",
       "    </tr>\n",
       "    <tr>\n",
       "      <td>1450</td>\n",
       "      <td>tt0924129</td>\n",
       "      <td>Crossing Over</td>\n",
       "      <td>Harrison Ford</td>\n",
       "      <td>1.054348e+06</td>\n",
       "    </tr>\n",
       "  </tbody>\n",
       "</table>\n",
       "</div>"
      ],
      "text/plain": [
       "        imdb_id                                     original_title  \\\n",
       "1417  tt0076759                                          Star Wars   \n",
       "1457  tt2488496                       Star Wars: The Force Awakens   \n",
       "1421  tt0080684                            The Empire Strikes Back   \n",
       "1424  tt0086190                                 Return of the Jedi   \n",
       "1422  tt0082971                            Raiders of the Lost Ark   \n",
       "1430  tt0097576                 Indiana Jones and the Last Crusade   \n",
       "1445  tt0367882  Indiana Jones and the Kingdom of the Crystal S...   \n",
       "1425  tt0087469               Indiana Jones and the Temple of Doom   \n",
       "1434  tt0106977                                       The Fugitive   \n",
       "1437  tt0118571                                      Air Force One   \n",
       "1431  tt0100404                                  Presumed Innocent   \n",
       "1435  tt0109444                           Clear and Present Danger   \n",
       "1433  tt0105112                                      Patriot Games   \n",
       "1439  tt0120828                              Six Days Seven Nights   \n",
       "1441  tt0161081                                  What Lies Beneath   \n",
       "1438  tt0118972                                    The Devil's Own   \n",
       "1429  tt0096463                                       Working Girl   \n",
       "1456  tt2333784                                  The Expendables 3   \n",
       "1448  tt0409847                                   Cowboys & Aliens   \n",
       "1426  tt0090329                                            Witness   \n",
       "1455  tt1731141                                       Ender's Game   \n",
       "1440  tt0156934                                      Random Hearts   \n",
       "1447  tt0408345                                           Firewall   \n",
       "1449  tt0453562                                                 42   \n",
       "1423  tt0083658                                       Blade Runner   \n",
       "1444  tt0329717                                 Hollywood Homicide   \n",
       "1451  tt1126618                                      Morning Glory   \n",
       "1446  tt0395656                  Indiana Jones: Making the Trilogy   \n",
       "1442  tt0193524                      The Star Wars Holiday Special   \n",
       "1419  tt0079180                                     The Frisco Kid   \n",
       "1436  tt0114319                                            Sabrina   \n",
       "1420  tt0079268                                     Hanover Street   \n",
       "1432  tt0102768                                    Regarding Henry   \n",
       "1443  tt0267626                               K-19: The Widowmaker   \n",
       "1454  tt1655441                                 The Age of Adaline   \n",
       "1428  tt0095174                                            Frantic   \n",
       "1427  tt0091557                                 The Mosquito Coast   \n",
       "1418  tt0077572                             Force 10 from Navarone   \n",
       "1416  tt0071360                                   The Conversation   \n",
       "1452  tt1244659                             Extraordinary Measures   \n",
       "1453  tt1413495                                           Paranoia   \n",
       "1450  tt0924129                                      Crossing Over   \n",
       "\n",
       "               cast   revenue_adj  \n",
       "1417  Harrison Ford  2.789712e+09  \n",
       "1457  Harrison Ford  1.902723e+09  \n",
       "1421  Harrison Ford  1.424626e+09  \n",
       "1424  Harrison Ford  1.253819e+09  \n",
       "1422  Harrison Ford  9.351169e+08  \n",
       "1430  Harrison Ford  8.340611e+08  \n",
       "1445  Harrison Ford  7.966945e+08  \n",
       "1425  Harrison Ford  6.989810e+08  \n",
       "1434  Harrison Ford  5.568069e+08  \n",
       "1437  Harrison Ford  4.281275e+08  \n",
       "1431  Harrison Ford  3.693326e+08  \n",
       "1435  Harrison Ford  3.175949e+08  \n",
       "1433  Harrison Ford  2.766965e+08  \n",
       "1439  Harrison Ford  2.193821e+08  \n",
       "1441  Harrison Ford  1.968633e+08  \n",
       "1438  Harrison Ford  1.912815e+08  \n",
       "1429  Harrison Ford  1.902409e+08  \n",
       "1456  Harrison Ford  1.899037e+08  \n",
       "1448  Harrison Ford  1.694724e+08  \n",
       "1426  Harrison Ford  1.392805e+08  \n",
       "1455  Harrison Ford  1.175070e+08  \n",
       "1440  Harrison Ford  9.766656e+07  \n",
       "1447  Harrison Ford  8.956221e+07  \n",
       "1449  Harrison Ford  8.894209e+07  \n",
       "1423  Harrison Ford  7.404548e+07  \n",
       "1444  Harrison Ford  6.062209e+07  \n",
       "1451  Harrison Ford  5.878518e+07  \n",
       "1446  Harrison Ford  4.395666e+07  \n",
       "1442  Harrison Ford  4.395666e+07  \n",
       "1419  Harrison Ford  4.395666e+07  \n",
       "1436  Harrison Ford  4.395666e+07  \n",
       "1420  Harrison Ford  4.395666e+07  \n",
       "1432  Harrison Ford  4.395666e+07  \n",
       "1443  Harrison Ford  4.263398e+07  \n",
       "1454  Harrison Ford  3.921938e+07  \n",
       "1428  Harrison Ford  3.252246e+07  \n",
       "1427  Harrison Ford  2.845404e+07  \n",
       "1418  Harrison Ford  2.416773e+07  \n",
       "1416  Harrison Ford  1.954649e+07  \n",
       "1452  Harrison Ford  1.513429e+07  \n",
       "1453  Harrison Ford  1.290323e+07  \n",
       "1450  Harrison Ford  1.054348e+06  "
      ]
     },
     "execution_count": 36,
     "metadata": {},
     "output_type": "execute_result"
    }
   ],
   "source": [
    "Harrison_Ford"
   ]
  },
  {
   "cell_type": "code",
   "execution_count": 37,
   "metadata": {
    "scrolled": true,
    "slideshow": {
     "slide_type": "slide"
    }
   },
   "outputs": [
    {
     "data": {
      "image/png": "[encoded data removed]",
      "text/plain": [
       "<Figure size 720x720 with 1 Axes>"
      ]
     },
     "metadata": {
      "needs_background": "light"
     },
     "output_type": "display_data"
    }
   ],
   "source": [
    "Harrison_Ford[['revenue_adj']].plot(kind='bar', figsize=(10, 10), sort_columns='True', title='Movie revenue with Harrison Ford');"
   ]
  },
  {
   "cell_type": "markdown",
   "metadata": {
    "slideshow": {
     "slide_type": "slide"
    }
   },
   "source": [
    "From this grath we could see that we can’t say that films with popular actors will have a big box office. Here we could observe that while some movies did produced a marked high revenue well above the global mean revenue, there were significant other movies that did not perform as well."
   ]
  },
  {
   "cell_type": "markdown",
   "metadata": {
    "slideshow": {
     "slide_type": "slide"
    }
   },
   "source": [
    "##### Hypothesis 3 ( rating/ revenue correlation)"
   ]
  },
  {
   "cell_type": "code",
   "execution_count": 38,
   "metadata": {
    "slideshow": {
     "slide_type": "slide"
    }
   },
   "outputs": [
    {
     "data": {
      "text/plain": [
       "<matplotlib.axes._subplots.AxesSubplot at 0x1e52dd9da90>"
      ]
     },
     "execution_count": 38,
     "metadata": {},
     "output_type": "execute_result"
    },
    {
     "data": {
      "image/png": "[encoded data removed]",
      "text/plain": [
       "<Figure size 1080x576 with 1 Axes>"
      ]
     },
     "metadata": {
      "needs_background": "light"
     },
     "output_type": "display_data"
    }
   ],
   "source": [
    "plt.figure(figsize=(15,8))\n",
    "locs, labels = plt.xticks()\n",
    "plt.xticks(locs[1:], rotation='vertical')\n",
    "sns.pointplot(x = 'averageRating', y = 'revenue_adj', data=data_prep)"
   ]
  },
  {
   "cell_type": "markdown",
   "metadata": {
    "slideshow": {
     "slide_type": "slide"
    }
   },
   "source": [
    "We could observe some correlation between rating and revenue: higher the rating, higer the revenue"
   ]
  },
  {
   "cell_type": "markdown",
   "metadata": {
    "slideshow": {
     "slide_type": "slide"
    }
   },
   "source": [
    "##### Hypothesis 4 ( director/ revenue correlation)"
   ]
  },
  {
   "cell_type": "markdown",
   "metadata": {
    "slideshow": {
     "slide_type": "slide"
    }
   },
   "source": [
    "Let's make the same analyze as for an actors, because it is fully describes the situation. "
   ]
  },
  {
   "cell_type": "code",
   "execution_count": 39,
   "metadata": {
    "slideshow": {
     "slide_type": "slide"
    }
   },
   "outputs": [],
   "source": [
    "# Copy the dataframe so that the main dataframe remains unaffected\n",
    "\n",
    "data_prep_directors = data.copy(deep=True)"
   ]
  },
  {
   "cell_type": "markdown",
   "metadata": {
    "slideshow": {
     "slide_type": "slide"
    }
   },
   "source": [
    "Cleaning the dataset according to requirments and only keeping those columns that are actually needed."
   ]
  },
  {
   "cell_type": "code",
   "execution_count": 40,
   "metadata": {
    "slideshow": {
     "slide_type": "slide"
    }
   },
   "outputs": [],
   "source": [
    "data_prep_directors.drop(data_prep_directors.columns.difference(['imdb_id', 'original_title', 'director','revenue_adj']), 1, inplace=True)\n",
    "\n",
    "# Splitting the various genres using the delimeter \n",
    "data_prep_directors.director = data_prep_directors.director.str.split('|')"
   ]
  },
  {
   "cell_type": "code",
   "execution_count": 41,
   "metadata": {
    "slideshow": {
     "slide_type": "slide"
    }
   },
   "outputs": [],
   "source": [
    "data_prep_directors = explode(data_prep_directors, ['director'])"
   ]
  },
  {
   "cell_type": "markdown",
   "metadata": {
    "slideshow": {
     "slide_type": "slide"
    }
   },
   "source": [
    "Let's group films by directors and consider only directors, who directed a greater number of movies."
   ]
  },
  {
   "cell_type": "code",
   "execution_count": 42,
   "metadata": {
    "slideshow": {
     "slide_type": "slide"
    }
   },
   "outputs": [],
   "source": [
    "top_directors = (data_prep_directors.groupby('director')['original_title'].count()).sort_values(ascending=False)"
   ]
  },
  {
   "cell_type": "code",
   "execution_count": 43,
   "metadata": {
    "scrolled": true,
    "slideshow": {
     "slide_type": "slide"
    }
   },
   "outputs": [
    {
     "data": {
      "image/png": "[encoded data removed]",
      "text/plain": [
       "<Figure size 1080x792 with 1 Axes>"
      ]
     },
     "metadata": {
      "needs_background": "light"
     },
     "output_type": "display_data"
    }
   ],
   "source": [
    "# List of top directors\n",
    "\n",
    "top_directors[:30].plot(kind='bar', figsize=(15,11), title='Number of movies from top 30 directors').yaxis.label.set_visible(False)"
   ]
  },
  {
   "cell_type": "markdown",
   "metadata": {
    "slideshow": {
     "slide_type": "slide"
    }
   },
   "source": [
    "From the grath we could observe that WoodyAllen and Clint Eastwood directed more films, than others"
   ]
  },
  {
   "cell_type": "code",
   "execution_count": 44,
   "metadata": {
    "slideshow": {
     "slide_type": "slide"
    }
   },
   "outputs": [],
   "source": [
    "# Now create a new dataframe which only contain the rows belonging to the movies, where only top 30 actors participated \n",
    "\n",
    "data_topDirectors = pd.DataFrame()\n",
    "for director,v in top_directors[:30].items():\n",
    "    data_topDirectors =data_topDirectors.append(data_prep_directors[data_prep_directors['director'].str.contains(director)],ignore_index=True)"
   ]
  },
  {
   "cell_type": "code",
   "execution_count": 45,
   "metadata": {
    "scrolled": false,
    "slideshow": {
     "slide_type": "slide"
    }
   },
   "outputs": [
    {
     "name": "stdout",
     "output_type": "stream",
     "text": [
      "<class 'pandas.core.frame.DataFrame'>\n",
      "RangeIndex: 624 entries, 0 to 623\n",
      "Data columns (total 4 columns):\n",
      "imdb_id           624 non-null object\n",
      "original_title    624 non-null object\n",
      "director          624 non-null object\n",
      "revenue_adj       624 non-null float64\n",
      "dtypes: float64(1), object(3)\n",
      "memory usage: 19.6+ KB\n"
     ]
    }
   ],
   "source": [
    "data_topDirectors.info()"
   ]
  },
  {
   "cell_type": "code",
   "execution_count": 46,
   "metadata": {
    "slideshow": {
     "slide_type": "slide"
    }
   },
   "outputs": [
    {
     "data": {
      "text/html": [
       "<div>\n",
       "<style scoped>\n",
       "    .dataframe tbody tr th:only-of-type {\n",
       "        vertical-align: middle;\n",
       "    }\n",
       "\n",
       "    .dataframe tbody tr th {\n",
       "        vertical-align: top;\n",
       "    }\n",
       "\n",
       "    .dataframe thead th {\n",
       "        text-align: right;\n",
       "    }\n",
       "</style>\n",
       "<table border=\"1\" class=\"dataframe\">\n",
       "  <thead>\n",
       "    <tr style=\"text-align: right;\">\n",
       "      <th></th>\n",
       "      <th>imdb_id</th>\n",
       "      <th>original_title</th>\n",
       "      <th>director</th>\n",
       "      <th>revenue_adj</th>\n",
       "    </tr>\n",
       "  </thead>\n",
       "  <tbody>\n",
       "    <tr>\n",
       "      <td>0</td>\n",
       "      <td>tt0061177</td>\n",
       "      <td>What's Up, Tiger Lily?</td>\n",
       "      <td>Woody Allen</td>\n",
       "      <td>4.395666e+07</td>\n",
       "    </tr>\n",
       "    <tr>\n",
       "      <td>1</td>\n",
       "      <td>tt0065063</td>\n",
       "      <td>Take the Money and Run</td>\n",
       "      <td>Woody Allen</td>\n",
       "      <td>4.395666e+07</td>\n",
       "    </tr>\n",
       "    <tr>\n",
       "      <td>2</td>\n",
       "      <td>tt0066808</td>\n",
       "      <td>Bananas</td>\n",
       "      <td>Woody Allen</td>\n",
       "      <td>4.395666e+07</td>\n",
       "    </tr>\n",
       "    <tr>\n",
       "      <td>3</td>\n",
       "      <td>tt0068555</td>\n",
       "      <td>Everything You Always Wanted to Know About Sex...</td>\n",
       "      <td>Woody Allen</td>\n",
       "      <td>9.394704e+07</td>\n",
       "    </tr>\n",
       "    <tr>\n",
       "      <td>4</td>\n",
       "      <td>tt0070707</td>\n",
       "      <td>Sleeper</td>\n",
       "      <td>Woody Allen</td>\n",
       "      <td>9.009389e+07</td>\n",
       "    </tr>\n",
       "    <tr>\n",
       "      <td>5</td>\n",
       "      <td>tt0073312</td>\n",
       "      <td>Love and Death</td>\n",
       "      <td>Woody Allen</td>\n",
       "      <td>4.395666e+07</td>\n",
       "    </tr>\n",
       "    <tr>\n",
       "      <td>6</td>\n",
       "      <td>tt0075686</td>\n",
       "      <td>Annie Hall</td>\n",
       "      <td>Woody Allen</td>\n",
       "      <td>1.376203e+08</td>\n",
       "    </tr>\n",
       "    <tr>\n",
       "      <td>7</td>\n",
       "      <td>tt0077742</td>\n",
       "      <td>Interiors</td>\n",
       "      <td>Woody Allen</td>\n",
       "      <td>4.395666e+07</td>\n",
       "    </tr>\n",
       "    <tr>\n",
       "      <td>8</td>\n",
       "      <td>tt0079522</td>\n",
       "      <td>Manhattan</td>\n",
       "      <td>Woody Allen</td>\n",
       "      <td>1.200223e+08</td>\n",
       "    </tr>\n",
       "    <tr>\n",
       "      <td>9</td>\n",
       "      <td>tt0081554</td>\n",
       "      <td>Stardust Memories</td>\n",
       "      <td>Woody Allen</td>\n",
       "      <td>2.748968e+07</td>\n",
       "    </tr>\n",
       "    <tr>\n",
       "      <td>10</td>\n",
       "      <td>tt0084329</td>\n",
       "      <td>A Midsummer Night's Sex Comedy</td>\n",
       "      <td>Woody Allen</td>\n",
       "      <td>4.395666e+07</td>\n",
       "    </tr>\n",
       "    <tr>\n",
       "      <td>11</td>\n",
       "      <td>tt0086637</td>\n",
       "      <td>Zelig</td>\n",
       "      <td>Woody Allen</td>\n",
       "      <td>2.583085e+07</td>\n",
       "    </tr>\n",
       "    <tr>\n",
       "      <td>12</td>\n",
       "      <td>tt0087003</td>\n",
       "      <td>Broadway Danny Rose</td>\n",
       "      <td>Woody Allen</td>\n",
       "      <td>2.225089e+07</td>\n",
       "    </tr>\n",
       "    <tr>\n",
       "      <td>13</td>\n",
       "      <td>tt0089853</td>\n",
       "      <td>The Purple Rose of Cairo</td>\n",
       "      <td>Woody Allen</td>\n",
       "      <td>2.155148e+07</td>\n",
       "    </tr>\n",
       "    <tr>\n",
       "      <td>14</td>\n",
       "      <td>tt0091167</td>\n",
       "      <td>Hannah and Her Sisters</td>\n",
       "      <td>Woody Allen</td>\n",
       "      <td>7.974345e+07</td>\n",
       "    </tr>\n",
       "    <tr>\n",
       "      <td>15</td>\n",
       "      <td>tt0093818</td>\n",
       "      <td>Radio Days</td>\n",
       "      <td>Woody Allen</td>\n",
       "      <td>4.395666e+07</td>\n",
       "    </tr>\n",
       "    <tr>\n",
       "      <td>16</td>\n",
       "      <td>tt0093940</td>\n",
       "      <td>September</td>\n",
       "      <td>Woody Allen</td>\n",
       "      <td>4.395666e+07</td>\n",
       "    </tr>\n",
       "    <tr>\n",
       "      <td>17</td>\n",
       "      <td>tt0094663</td>\n",
       "      <td>Another Woman</td>\n",
       "      <td>Woody Allen</td>\n",
       "      <td>4.395666e+07</td>\n",
       "    </tr>\n",
       "    <tr>\n",
       "      <td>18</td>\n",
       "      <td>tt0097123</td>\n",
       "      <td>Crimes and Misdemeanors</td>\n",
       "      <td>Woody Allen</td>\n",
       "      <td>3.210975e+07</td>\n",
       "    </tr>\n",
       "    <tr>\n",
       "      <td>19</td>\n",
       "      <td>tt0097965</td>\n",
       "      <td>New York Stories</td>\n",
       "      <td>Woody Allen</td>\n",
       "      <td>4.395666e+07</td>\n",
       "    </tr>\n",
       "    <tr>\n",
       "      <td>20</td>\n",
       "      <td>tt0099012</td>\n",
       "      <td>Alice</td>\n",
       "      <td>Woody Allen</td>\n",
       "      <td>4.395666e+07</td>\n",
       "    </tr>\n",
       "    <tr>\n",
       "      <td>21</td>\n",
       "      <td>tt0104466</td>\n",
       "      <td>Husbands and Wives</td>\n",
       "      <td>Woody Allen</td>\n",
       "      <td>4.395666e+07</td>\n",
       "    </tr>\n",
       "    <tr>\n",
       "      <td>22</td>\n",
       "      <td>tt0105378</td>\n",
       "      <td>Shadows and Fog</td>\n",
       "      <td>Woody Allen</td>\n",
       "      <td>4.380159e+06</td>\n",
       "    </tr>\n",
       "    <tr>\n",
       "      <td>23</td>\n",
       "      <td>tt0107507</td>\n",
       "      <td>Manhattan Murder Mystery</td>\n",
       "      <td>Woody Allen</td>\n",
       "      <td>1.703526e+07</td>\n",
       "    </tr>\n",
       "    <tr>\n",
       "      <td>24</td>\n",
       "      <td>tt0109348</td>\n",
       "      <td>Bullets Over Broadway</td>\n",
       "      <td>Woody Allen</td>\n",
       "      <td>4.395666e+07</td>\n",
       "    </tr>\n",
       "    <tr>\n",
       "      <td>25</td>\n",
       "      <td>tt0113819</td>\n",
       "      <td>Mighty Aphrodite</td>\n",
       "      <td>Woody Allen</td>\n",
       "      <td>9.587478e+06</td>\n",
       "    </tr>\n",
       "    <tr>\n",
       "      <td>26</td>\n",
       "      <td>tt0116242</td>\n",
       "      <td>Everyone Says I Love You</td>\n",
       "      <td>Woody Allen</td>\n",
       "      <td>4.395666e+07</td>\n",
       "    </tr>\n",
       "    <tr>\n",
       "      <td>27</td>\n",
       "      <td>tt0118954</td>\n",
       "      <td>Deconstructing Harry</td>\n",
       "      <td>Woody Allen</td>\n",
       "      <td>4.395666e+07</td>\n",
       "    </tr>\n",
       "    <tr>\n",
       "      <td>28</td>\n",
       "      <td>tt0120533</td>\n",
       "      <td>Celebrity</td>\n",
       "      <td>Woody Allen</td>\n",
       "      <td>4.395666e+07</td>\n",
       "    </tr>\n",
       "    <tr>\n",
       "      <td>29</td>\n",
       "      <td>tt0158371</td>\n",
       "      <td>Sweet and Lowdown</td>\n",
       "      <td>Woody Allen</td>\n",
       "      <td>4.395666e+07</td>\n",
       "    </tr>\n",
       "  </tbody>\n",
       "</table>\n",
       "</div>"
      ],
      "text/plain": [
       "      imdb_id                                     original_title     director  \\\n",
       "0   tt0061177                             What's Up, Tiger Lily?  Woody Allen   \n",
       "1   tt0065063                             Take the Money and Run  Woody Allen   \n",
       "2   tt0066808                                            Bananas  Woody Allen   \n",
       "3   tt0068555  Everything You Always Wanted to Know About Sex...  Woody Allen   \n",
       "4   tt0070707                                            Sleeper  Woody Allen   \n",
       "5   tt0073312                                     Love and Death  Woody Allen   \n",
       "6   tt0075686                                         Annie Hall  Woody Allen   \n",
       "7   tt0077742                                          Interiors  Woody Allen   \n",
       "8   tt0079522                                          Manhattan  Woody Allen   \n",
       "9   tt0081554                                  Stardust Memories  Woody Allen   \n",
       "10  tt0084329                     A Midsummer Night's Sex Comedy  Woody Allen   \n",
       "11  tt0086637                                              Zelig  Woody Allen   \n",
       "12  tt0087003                                Broadway Danny Rose  Woody Allen   \n",
       "13  tt0089853                           The Purple Rose of Cairo  Woody Allen   \n",
       "14  tt0091167                             Hannah and Her Sisters  Woody Allen   \n",
       "15  tt0093818                                         Radio Days  Woody Allen   \n",
       "16  tt0093940                                          September  Woody Allen   \n",
       "17  tt0094663                                      Another Woman  Woody Allen   \n",
       "18  tt0097123                            Crimes and Misdemeanors  Woody Allen   \n",
       "19  tt0097965                                   New York Stories  Woody Allen   \n",
       "20  tt0099012                                              Alice  Woody Allen   \n",
       "21  tt0104466                                 Husbands and Wives  Woody Allen   \n",
       "22  tt0105378                                    Shadows and Fog  Woody Allen   \n",
       "23  tt0107507                           Manhattan Murder Mystery  Woody Allen   \n",
       "24  tt0109348                              Bullets Over Broadway  Woody Allen   \n",
       "25  tt0113819                                   Mighty Aphrodite  Woody Allen   \n",
       "26  tt0116242                           Everyone Says I Love You  Woody Allen   \n",
       "27  tt0118954                               Deconstructing Harry  Woody Allen   \n",
       "28  tt0120533                                          Celebrity  Woody Allen   \n",
       "29  tt0158371                                  Sweet and Lowdown  Woody Allen   \n",
       "\n",
       "     revenue_adj  \n",
       "0   4.395666e+07  \n",
       "1   4.395666e+07  \n",
       "2   4.395666e+07  \n",
       "3   9.394704e+07  \n",
       "4   9.009389e+07  \n",
       "5   4.395666e+07  \n",
       "6   1.376203e+08  \n",
       "7   4.395666e+07  \n",
       "8   1.200223e+08  \n",
       "9   2.748968e+07  \n",
       "10  4.395666e+07  \n",
       "11  2.583085e+07  \n",
       "12  2.225089e+07  \n",
       "13  2.155148e+07  \n",
       "14  7.974345e+07  \n",
       "15  4.395666e+07  \n",
       "16  4.395666e+07  \n",
       "17  4.395666e+07  \n",
       "18  3.210975e+07  \n",
       "19  4.395666e+07  \n",
       "20  4.395666e+07  \n",
       "21  4.395666e+07  \n",
       "22  4.380159e+06  \n",
       "23  1.703526e+07  \n",
       "24  4.395666e+07  \n",
       "25  9.587478e+06  \n",
       "26  4.395666e+07  \n",
       "27  4.395666e+07  \n",
       "28  4.395666e+07  \n",
       "29  4.395666e+07  "
      ]
     },
     "execution_count": 46,
     "metadata": {},
     "output_type": "execute_result"
    }
   ],
   "source": [
    "data_topDirectors.head(30)"
   ]
  },
  {
   "cell_type": "code",
   "execution_count": 47,
   "metadata": {
    "slideshow": {
     "slide_type": "slide"
    }
   },
   "outputs": [],
   "source": [
    "# Take the mean of the revenue produced by all the movies, which each director directed\n",
    "\n",
    "data_topDirectorsRevenue = data_topDirectors.groupby(['director']).mean()"
   ]
  },
  {
   "cell_type": "code",
   "execution_count": 48,
   "metadata": {
    "slideshow": {
     "slide_type": "slide"
    }
   },
   "outputs": [],
   "source": [
    "# Extract the relavent coloumns needed for plotting\n",
    "\n",
    "data_topDirectorsRevenue = data_topDirectorsRevenue.drop(data_topDirectorsRevenue.columns.difference(['director','revenue_adj']), 1)"
   ]
  },
  {
   "cell_type": "code",
   "execution_count": 49,
   "metadata": {
    "slideshow": {
     "slide_type": "slide"
    }
   },
   "outputs": [],
   "source": [
    "# Sort the revenue coloumn in descending order\n",
    "\n",
    "data_topDirectorsRevenue = data_topDirectorsRevenue.sort_values(by = 'revenue_adj', ascending=1)"
   ]
  },
  {
   "cell_type": "code",
   "execution_count": 50,
   "metadata": {
    "scrolled": true,
    "slideshow": {
     "slide_type": "slide"
    }
   },
   "outputs": [
    {
     "data": {
      "text/plain": [
       "<matplotlib.axes._subplots.AxesSubplot at 0x1e52cad7e80>"
      ]
     },
     "execution_count": 50,
     "metadata": {},
     "output_type": "execute_result"
    },
    {
     "data": {
      "image/png": "[encoded data removed]",
      "text/plain": [
       "<Figure size 720x720 with 1 Axes>"
      ]
     },
     "metadata": {
      "needs_background": "light"
     },
     "output_type": "display_data"
    }
   ],
   "source": [
    "data_topDirectorsRevenue.plot(kind='barh', figsize=(10, 10), sort_columns='True', title='Average Revenue of Movies per director' )"
   ]
  },
  {
   "cell_type": "markdown",
   "metadata": {
    "slideshow": {
     "slide_type": "slide"
    }
   },
   "source": [
    "From the grath we observe that Steven Spielberg is the director with the higherst revenue."
   ]
  },
  {
   "cell_type": "code",
   "execution_count": 51,
   "metadata": {
    "slideshow": {
     "slide_type": "slide"
    }
   },
   "outputs": [],
   "source": [
    "# Extract rows containing movies, where Harrison Ford has participated\n",
    "\n",
    "Steven_Spielberg=data_topDirectors[data_topDirectors['director'].str.contains('Steven Spielberg')].sort_values(by='revenue_adj', ascending=0)"
   ]
  },
  {
   "cell_type": "code",
   "execution_count": 52,
   "metadata": {
    "scrolled": true,
    "slideshow": {
     "slide_type": "slide"
    }
   },
   "outputs": [
    {
     "data": {
      "text/html": [
       "<div>\n",
       "<style scoped>\n",
       "    .dataframe tbody tr th:only-of-type {\n",
       "        vertical-align: middle;\n",
       "    }\n",
       "\n",
       "    .dataframe tbody tr th {\n",
       "        vertical-align: top;\n",
       "    }\n",
       "\n",
       "    .dataframe thead th {\n",
       "        text-align: right;\n",
       "    }\n",
       "</style>\n",
       "<table border=\"1\" class=\"dataframe\">\n",
       "  <thead>\n",
       "    <tr style=\"text-align: right;\">\n",
       "      <th></th>\n",
       "      <th>imdb_id</th>\n",
       "      <th>original_title</th>\n",
       "      <th>director</th>\n",
       "      <th>revenue_adj</th>\n",
       "    </tr>\n",
       "  </thead>\n",
       "  <tbody>\n",
       "    <tr>\n",
       "      <td>82</td>\n",
       "      <td>tt0073195</td>\n",
       "      <td>Jaws</td>\n",
       "      <td>Steven Spielberg</td>\n",
       "      <td>1.907006e+09</td>\n",
       "    </tr>\n",
       "    <tr>\n",
       "      <td>86</td>\n",
       "      <td>tt0083866</td>\n",
       "      <td>E.T. the Extra-Terrestrial</td>\n",
       "      <td>Steven Spielberg</td>\n",
       "      <td>1.791694e+09</td>\n",
       "    </tr>\n",
       "    <tr>\n",
       "      <td>94</td>\n",
       "      <td>tt0107290</td>\n",
       "      <td>Jurassic Park</td>\n",
       "      <td>Steven Spielberg</td>\n",
       "      <td>1.388863e+09</td>\n",
       "    </tr>\n",
       "    <tr>\n",
       "      <td>83</td>\n",
       "      <td>tt0075860</td>\n",
       "      <td>Close Encounters of the Third Kind</td>\n",
       "      <td>Steven Spielberg</td>\n",
       "      <td>1.092965e+09</td>\n",
       "    </tr>\n",
       "    <tr>\n",
       "      <td>85</td>\n",
       "      <td>tt0082971</td>\n",
       "      <td>Raiders of the Lost Ark</td>\n",
       "      <td>Steven Spielberg</td>\n",
       "      <td>9.351169e+08</td>\n",
       "    </tr>\n",
       "    <tr>\n",
       "      <td>92</td>\n",
       "      <td>tt0097576</td>\n",
       "      <td>Indiana Jones and the Last Crusade</td>\n",
       "      <td>Steven Spielberg</td>\n",
       "      <td>8.340611e+08</td>\n",
       "    </tr>\n",
       "    <tr>\n",
       "      <td>103</td>\n",
       "      <td>tt0367882</td>\n",
       "      <td>Indiana Jones and the Kingdom of the Crystal S...</td>\n",
       "      <td>Steven Spielberg</td>\n",
       "      <td>7.966945e+08</td>\n",
       "    </tr>\n",
       "    <tr>\n",
       "      <td>88</td>\n",
       "      <td>tt0087469</td>\n",
       "      <td>Indiana Jones and the Temple of Doom</td>\n",
       "      <td>Steven Spielberg</td>\n",
       "      <td>6.989810e+08</td>\n",
       "    </tr>\n",
       "    <tr>\n",
       "      <td>104</td>\n",
       "      <td>tt0407304</td>\n",
       "      <td>War of the Worlds</td>\n",
       "      <td>Steven Spielberg</td>\n",
       "      <td>6.607145e+08</td>\n",
       "    </tr>\n",
       "    <tr>\n",
       "      <td>98</td>\n",
       "      <td>tt0120815</td>\n",
       "      <td>Saving Private Ryan</td>\n",
       "      <td>Steven Spielberg</td>\n",
       "      <td>6.445564e+08</td>\n",
       "    </tr>\n",
       "    <tr>\n",
       "      <td>95</td>\n",
       "      <td>tt0108052</td>\n",
       "      <td>Schindler's List</td>\n",
       "      <td>Steven Spielberg</td>\n",
       "      <td>4.849410e+08</td>\n",
       "    </tr>\n",
       "    <tr>\n",
       "      <td>93</td>\n",
       "      <td>tt0102057</td>\n",
       "      <td>Hook</td>\n",
       "      <td>Steven Spielberg</td>\n",
       "      <td>4.816965e+08</td>\n",
       "    </tr>\n",
       "    <tr>\n",
       "      <td>99</td>\n",
       "      <td>tt0181689</td>\n",
       "      <td>Minority Report</td>\n",
       "      <td>Steven Spielberg</td>\n",
       "      <td>4.344417e+08</td>\n",
       "    </tr>\n",
       "    <tr>\n",
       "      <td>101</td>\n",
       "      <td>tt0264464</td>\n",
       "      <td>Catch Me If You Can</td>\n",
       "      <td>Steven Spielberg</td>\n",
       "      <td>4.268546e+08</td>\n",
       "    </tr>\n",
       "    <tr>\n",
       "      <td>107</td>\n",
       "      <td>tt0983193</td>\n",
       "      <td>The Adventures of Tintin</td>\n",
       "      <td>Steven Spielberg</td>\n",
       "      <td>3.605580e+08</td>\n",
       "    </tr>\n",
       "    <tr>\n",
       "      <td>97</td>\n",
       "      <td>tt0119567</td>\n",
       "      <td>The Lost World: Jurassic Park</td>\n",
       "      <td>Steven Spielberg</td>\n",
       "      <td>3.111887e+08</td>\n",
       "    </tr>\n",
       "    <tr>\n",
       "      <td>89</td>\n",
       "      <td>tt0088939</td>\n",
       "      <td>The Color Purple</td>\n",
       "      <td>Steven Spielberg</td>\n",
       "      <td>2.965582e+08</td>\n",
       "    </tr>\n",
       "    <tr>\n",
       "      <td>100</td>\n",
       "      <td>tt0212720</td>\n",
       "      <td>A.I. Artificial Intelligence</td>\n",
       "      <td>Steven Spielberg</td>\n",
       "      <td>2.905407e+08</td>\n",
       "    </tr>\n",
       "    <tr>\n",
       "      <td>106</td>\n",
       "      <td>tt0443272</td>\n",
       "      <td>Lincoln</td>\n",
       "      <td>Steven Spielberg</td>\n",
       "      <td>2.614584e+08</td>\n",
       "    </tr>\n",
       "    <tr>\n",
       "      <td>102</td>\n",
       "      <td>tt0362227</td>\n",
       "      <td>The Terminal</td>\n",
       "      <td>Steven Spielberg</td>\n",
       "      <td>2.533052e+08</td>\n",
       "    </tr>\n",
       "    <tr>\n",
       "      <td>108</td>\n",
       "      <td>tt1568911</td>\n",
       "      <td>War Horse</td>\n",
       "      <td>Steven Spielberg</td>\n",
       "      <td>1.721504e+08</td>\n",
       "    </tr>\n",
       "    <tr>\n",
       "      <td>109</td>\n",
       "      <td>tt3682448</td>\n",
       "      <td>Bridge of Spies</td>\n",
       "      <td>Steven Spielberg</td>\n",
       "      <td>1.496016e+08</td>\n",
       "    </tr>\n",
       "    <tr>\n",
       "      <td>105</td>\n",
       "      <td>tt0408306</td>\n",
       "      <td>Munich</td>\n",
       "      <td>Steven Spielberg</td>\n",
       "      <td>1.455540e+08</td>\n",
       "    </tr>\n",
       "    <tr>\n",
       "      <td>91</td>\n",
       "      <td>tt0096794</td>\n",
       "      <td>Always</td>\n",
       "      <td>Steven Spielberg</td>\n",
       "      <td>1.304020e+08</td>\n",
       "    </tr>\n",
       "    <tr>\n",
       "      <td>96</td>\n",
       "      <td>tt0118607</td>\n",
       "      <td>Amistad</td>\n",
       "      <td>Steven Spielberg</td>\n",
       "      <td>1.005261e+08</td>\n",
       "    </tr>\n",
       "    <tr>\n",
       "      <td>84</td>\n",
       "      <td>tt0078723</td>\n",
       "      <td>1941</td>\n",
       "      <td>Steven Spielberg</td>\n",
       "      <td>9.541184e+07</td>\n",
       "    </tr>\n",
       "    <tr>\n",
       "      <td>87</td>\n",
       "      <td>tt0086491</td>\n",
       "      <td>Twilight Zone: The Movie</td>\n",
       "      <td>Steven Spielberg</td>\n",
       "      <td>6.447725e+07</td>\n",
       "    </tr>\n",
       "    <tr>\n",
       "      <td>81</td>\n",
       "      <td>tt0072226</td>\n",
       "      <td>The Sugarland Express</td>\n",
       "      <td>Steven Spielberg</td>\n",
       "      <td>5.660523e+07</td>\n",
       "    </tr>\n",
       "    <tr>\n",
       "      <td>90</td>\n",
       "      <td>tt0092965</td>\n",
       "      <td>Empire of the Sun</td>\n",
       "      <td>Steven Spielberg</td>\n",
       "      <td>4.395666e+07</td>\n",
       "    </tr>\n",
       "    <tr>\n",
       "      <td>80</td>\n",
       "      <td>tt0067023</td>\n",
       "      <td>Duel</td>\n",
       "      <td>Steven Spielberg</td>\n",
       "      <td>4.395666e+07</td>\n",
       "    </tr>\n",
       "  </tbody>\n",
       "</table>\n",
       "</div>"
      ],
      "text/plain": [
       "       imdb_id                                     original_title  \\\n",
       "82   tt0073195                                               Jaws   \n",
       "86   tt0083866                         E.T. the Extra-Terrestrial   \n",
       "94   tt0107290                                      Jurassic Park   \n",
       "83   tt0075860                 Close Encounters of the Third Kind   \n",
       "85   tt0082971                            Raiders of the Lost Ark   \n",
       "92   tt0097576                 Indiana Jones and the Last Crusade   \n",
       "103  tt0367882  Indiana Jones and the Kingdom of the Crystal S...   \n",
       "88   tt0087469               Indiana Jones and the Temple of Doom   \n",
       "104  tt0407304                                  War of the Worlds   \n",
       "98   tt0120815                                Saving Private Ryan   \n",
       "95   tt0108052                                   Schindler's List   \n",
       "93   tt0102057                                               Hook   \n",
       "99   tt0181689                                    Minority Report   \n",
       "101  tt0264464                                Catch Me If You Can   \n",
       "107  tt0983193                           The Adventures of Tintin   \n",
       "97   tt0119567                      The Lost World: Jurassic Park   \n",
       "89   tt0088939                                   The Color Purple   \n",
       "100  tt0212720                       A.I. Artificial Intelligence   \n",
       "106  tt0443272                                            Lincoln   \n",
       "102  tt0362227                                       The Terminal   \n",
       "108  tt1568911                                          War Horse   \n",
       "109  tt3682448                                    Bridge of Spies   \n",
       "105  tt0408306                                             Munich   \n",
       "91   tt0096794                                             Always   \n",
       "96   tt0118607                                            Amistad   \n",
       "84   tt0078723                                               1941   \n",
       "87   tt0086491                           Twilight Zone: The Movie   \n",
       "81   tt0072226                              The Sugarland Express   \n",
       "90   tt0092965                                  Empire of the Sun   \n",
       "80   tt0067023                                               Duel   \n",
       "\n",
       "             director   revenue_adj  \n",
       "82   Steven Spielberg  1.907006e+09  \n",
       "86   Steven Spielberg  1.791694e+09  \n",
       "94   Steven Spielberg  1.388863e+09  \n",
       "83   Steven Spielberg  1.092965e+09  \n",
       "85   Steven Spielberg  9.351169e+08  \n",
       "92   Steven Spielberg  8.340611e+08  \n",
       "103  Steven Spielberg  7.966945e+08  \n",
       "88   Steven Spielberg  6.989810e+08  \n",
       "104  Steven Spielberg  6.607145e+08  \n",
       "98   Steven Spielberg  6.445564e+08  \n",
       "95   Steven Spielberg  4.849410e+08  \n",
       "93   Steven Spielberg  4.816965e+08  \n",
       "99   Steven Spielberg  4.344417e+08  \n",
       "101  Steven Spielberg  4.268546e+08  \n",
       "107  Steven Spielberg  3.605580e+08  \n",
       "97   Steven Spielberg  3.111887e+08  \n",
       "89   Steven Spielberg  2.965582e+08  \n",
       "100  Steven Spielberg  2.905407e+08  \n",
       "106  Steven Spielberg  2.614584e+08  \n",
       "102  Steven Spielberg  2.533052e+08  \n",
       "108  Steven Spielberg  1.721504e+08  \n",
       "109  Steven Spielberg  1.496016e+08  \n",
       "105  Steven Spielberg  1.455540e+08  \n",
       "91   Steven Spielberg  1.304020e+08  \n",
       "96   Steven Spielberg  1.005261e+08  \n",
       "84   Steven Spielberg  9.541184e+07  \n",
       "87   Steven Spielberg  6.447725e+07  \n",
       "81   Steven Spielberg  5.660523e+07  \n",
       "90   Steven Spielberg  4.395666e+07  \n",
       "80   Steven Spielberg  4.395666e+07  "
      ]
     },
     "execution_count": 52,
     "metadata": {},
     "output_type": "execute_result"
    }
   ],
   "source": [
    "Steven_Spielberg"
   ]
  },
  {
   "cell_type": "code",
   "execution_count": 53,
   "metadata": {
    "scrolled": true,
    "slideshow": {
     "slide_type": "slide"
    }
   },
   "outputs": [
    {
     "data": {
      "text/plain": [
       "<matplotlib.axes._subplots.AxesSubplot at 0x1e52cc4a940>"
      ]
     },
     "execution_count": 53,
     "metadata": {},
     "output_type": "execute_result"
    },
    {
     "data": {
      "image/png": "[encoded data removed]",
      "text/plain": [
       "<Figure size 720x720 with 1 Axes>"
      ]
     },
     "metadata": {
      "needs_background": "light"
     },
     "output_type": "display_data"
    }
   ],
   "source": [
    "Steven_Spielberg[['revenue_adj']].plot(kind='bar', figsize=(10, 10), sort_columns='True', title='Movie revenue with Steven Spielberg')"
   ]
  },
  {
   "cell_type": "markdown",
   "metadata": {
    "slideshow": {
     "slide_type": "slide"
    }
   },
   "source": [
    "From this graph we could see that we can’t say that movies created by popular directors will have a big box office. Here we could observe that while some movies produced a marked high revenue well above the global mean revenue, there were significant other movies that did not perform as well."
   ]
  },
  {
   "cell_type": "markdown",
   "metadata": {
    "slideshow": {
     "slide_type": "slide"
    }
   },
   "source": [
    "##### Hypothesis 5 ( genres/ revenue correlation)"
   ]
  },
  {
   "cell_type": "code",
   "execution_count": 54,
   "metadata": {
    "slideshow": {
     "slide_type": "slide"
    }
   },
   "outputs": [],
   "source": [
    "# Copy the dataframe so that the main dataframe remains unaffected\n",
    "\n",
    "data_prep_genres = data.copy(deep=True)"
   ]
  },
  {
   "cell_type": "code",
   "execution_count": 55,
   "metadata": {
    "slideshow": {
     "slide_type": "slide"
    }
   },
   "outputs": [],
   "source": [
    "data_prep_genres.drop(data_prep_genres.columns.difference(['imdb_id', 'original_title', 'genres','revenue_adj']), 1, inplace=True)\n",
    "\n",
    "# Splitting the various genres using the delimeter \n",
    "data_prep_genres.genres = data_prep_genres.genres.str.split('|')"
   ]
  },
  {
   "cell_type": "code",
   "execution_count": 56,
   "metadata": {
    "slideshow": {
     "slide_type": "slide"
    }
   },
   "outputs": [],
   "source": [
    "data_prep_genres = explode(data_prep_genres, ['genres'])"
   ]
  },
  {
   "cell_type": "code",
   "execution_count": 57,
   "metadata": {
    "slideshow": {
     "slide_type": "slide"
    }
   },
   "outputs": [],
   "source": [
    "top_genres = (data_prep_genres.groupby('genres')['original_title'].count()).sort_values(ascending=False)"
   ]
  },
  {
   "cell_type": "code",
   "execution_count": 58,
   "metadata": {
    "scrolled": true,
    "slideshow": {
     "slide_type": "slide"
    }
   },
   "outputs": [
    {
     "data": {
      "image/png": "[encoded data removed]",
      "text/plain": [
       "<Figure size 1080x792 with 1 Axes>"
      ]
     },
     "metadata": {
      "needs_background": "light"
     },
     "output_type": "display_data"
    }
   ],
   "source": [
    "# List of top genres\n",
    "\n",
    "top_genres[:30].plot(kind='bar', figsize=(15,11), title='Number of movies from top 30 genres').yaxis.label.set_visible(False)"
   ]
  },
  {
   "cell_type": "markdown",
   "metadata": {
    "slideshow": {
     "slide_type": "slide"
    }
   },
   "source": [
    "There are a lot of drama and comedy films!"
   ]
  },
  {
   "cell_type": "code",
   "execution_count": 59,
   "metadata": {
    "slideshow": {
     "slide_type": "slide"
    }
   },
   "outputs": [],
   "source": [
    "# Now create a new dataframe which only contain the rows belonging to the movies with only top 30 genres\n",
    "\n",
    "data_topGenres = pd.DataFrame()\n",
    "for genre,v in top_genres[:30].items():\n",
    "    data_topGenres =data_topGenres.append(data_prep_genres[data_prep_genres['genres'].str.contains(genre)],ignore_index=True)"
   ]
  },
  {
   "cell_type": "code",
   "execution_count": 60,
   "metadata": {
    "slideshow": {
     "slide_type": "slide"
    }
   },
   "outputs": [],
   "source": [
    "# Take the mean of the revenue produced by all the movies with each genre\n",
    "\n",
    "data_topGenresRevenue = data_topGenres.groupby(['genres']).mean()"
   ]
  },
  {
   "cell_type": "code",
   "execution_count": 61,
   "metadata": {
    "slideshow": {
     "slide_type": "slide"
    }
   },
   "outputs": [],
   "source": [
    "# Extract the relavent coloumns needed for plotting\n",
    "\n",
    "data_topGenresRevenue = data_topGenresRevenue.drop(data_topGenresRevenue.columns.difference(['genres','revenue_adj']), 1)"
   ]
  },
  {
   "cell_type": "code",
   "execution_count": 62,
   "metadata": {
    "slideshow": {
     "slide_type": "slide"
    }
   },
   "outputs": [],
   "source": [
    "# Sort the revenue coloumn in descending order\n",
    "\n",
    "data_topGenresRevenue = data_topGenresRevenue.sort_values(by = 'revenue_adj', ascending=1)"
   ]
  },
  {
   "cell_type": "code",
   "execution_count": 63,
   "metadata": {
    "scrolled": true,
    "slideshow": {
     "slide_type": "slide"
    }
   },
   "outputs": [
    {
     "data": {
      "text/plain": [
       "<matplotlib.axes._subplots.AxesSubplot at 0x1e52fd24128>"
      ]
     },
     "execution_count": 63,
     "metadata": {},
     "output_type": "execute_result"
    },
    {
     "data": {
      "image/png": "[encoded data removed]",
      "text/plain": [
       "<Figure size 720x720 with 1 Axes>"
      ]
     },
     "metadata": {
      "needs_background": "light"
     },
     "output_type": "display_data"
    }
   ],
   "source": [
    "data_topGenresRevenue.plot(kind='barh', figsize=(10, 10), sort_columns='True', title='Average Revenue of Movies per genre' )"
   ]
  },
  {
   "cell_type": "markdown",
   "metadata": {
    "slideshow": {
     "slide_type": "slide"
    }
   },
   "source": [
    "Adventure movies are more profitable"
   ]
  },
  {
   "cell_type": "code",
   "execution_count": 64,
   "metadata": {
    "slideshow": {
     "slide_type": "slide"
    }
   },
   "outputs": [],
   "source": [
    "# Extract rows containing movies, where Harrison Ford has participated\n",
    "Adventure=data_topGenres[data_topGenres['genres'].str.contains('Adventure')].sort_values(by='revenue_adj', ascending=0)"
   ]
  },
  {
   "cell_type": "code",
   "execution_count": 65,
   "metadata": {
    "scrolled": true,
    "slideshow": {
     "slide_type": "slide"
    }
   },
   "outputs": [
    {
     "data": {
      "text/html": [
       "<div>\n",
       "<style scoped>\n",
       "    .dataframe tbody tr th:only-of-type {\n",
       "        vertical-align: middle;\n",
       "    }\n",
       "\n",
       "    .dataframe tbody tr th {\n",
       "        vertical-align: top;\n",
       "    }\n",
       "\n",
       "    .dataframe thead th {\n",
       "        text-align: right;\n",
       "    }\n",
       "</style>\n",
       "<table border=\"1\" class=\"dataframe\">\n",
       "  <thead>\n",
       "    <tr style=\"text-align: right;\">\n",
       "      <th></th>\n",
       "      <th>imdb_id</th>\n",
       "      <th>original_title</th>\n",
       "      <th>genres</th>\n",
       "      <th>revenue_adj</th>\n",
       "    </tr>\n",
       "  </thead>\n",
       "  <tbody>\n",
       "    <tr>\n",
       "      <td>18108</td>\n",
       "      <td>tt0499549</td>\n",
       "      <td>Avatar</td>\n",
       "      <td>Adventure</td>\n",
       "      <td>2.827124e+09</td>\n",
       "    </tr>\n",
       "    <tr>\n",
       "      <td>17254</td>\n",
       "      <td>tt0076759</td>\n",
       "      <td>Star Wars</td>\n",
       "      <td>Adventure</td>\n",
       "      <td>2.789712e+09</td>\n",
       "    </tr>\n",
       "    <tr>\n",
       "      <td>17230</td>\n",
       "      <td>tt0073195</td>\n",
       "      <td>Jaws</td>\n",
       "      <td>Adventure</td>\n",
       "      <td>1.907006e+09</td>\n",
       "    </tr>\n",
       "    <tr>\n",
       "      <td>18519</td>\n",
       "      <td>tt2488496</td>\n",
       "      <td>Star Wars: The Force Awakens</td>\n",
       "      <td>Adventure</td>\n",
       "      <td>1.902723e+09</td>\n",
       "    </tr>\n",
       "    <tr>\n",
       "      <td>17303</td>\n",
       "      <td>tt0083866</td>\n",
       "      <td>E.T. the Extra-Terrestrial</td>\n",
       "      <td>Adventure</td>\n",
       "      <td>1.791694e+09</td>\n",
       "    </tr>\n",
       "    <tr>\n",
       "      <td>...</td>\n",
       "      <td>...</td>\n",
       "      <td>...</td>\n",
       "      <td>...</td>\n",
       "      <td>...</td>\n",
       "    </tr>\n",
       "    <tr>\n",
       "      <td>17456</td>\n",
       "      <td>tt0099810</td>\n",
       "      <td>The Hunt for Red October</td>\n",
       "      <td>Adventure</td>\n",
       "      <td>3.337797e+02</td>\n",
       "    </tr>\n",
       "    <tr>\n",
       "      <td>17884</td>\n",
       "      <td>tt0328880</td>\n",
       "      <td>Brother Bear</td>\n",
       "      <td>Adventure</td>\n",
       "      <td>2.963382e+02</td>\n",
       "    </tr>\n",
       "    <tr>\n",
       "      <td>17484</td>\n",
       "      <td>tt0103060</td>\n",
       "      <td>Teenage Mutant Ninja Turtles II: The Secret of...</td>\n",
       "      <td>Adventure</td>\n",
       "      <td>1.248852e+02</td>\n",
       "    </tr>\n",
       "    <tr>\n",
       "      <td>17533</td>\n",
       "      <td>tt0108308</td>\n",
       "      <td>Teenage Mutant Ninja Turtles III</td>\n",
       "      <td>Adventure</td>\n",
       "      <td>6.339774e+01</td>\n",
       "    </tr>\n",
       "    <tr>\n",
       "      <td>18274</td>\n",
       "      <td>tt1227926</td>\n",
       "      <td>Dr. Horrible's Sing-Along Blog</td>\n",
       "      <td>Adventure</td>\n",
       "      <td>3.038360e+00</td>\n",
       "    </tr>\n",
       "  </tbody>\n",
       "</table>\n",
       "<p>1463 rows × 4 columns</p>\n",
       "</div>"
      ],
      "text/plain": [
       "         imdb_id                                     original_title  \\\n",
       "18108  tt0499549                                             Avatar   \n",
       "17254  tt0076759                                          Star Wars   \n",
       "17230  tt0073195                                               Jaws   \n",
       "18519  tt2488496                       Star Wars: The Force Awakens   \n",
       "17303  tt0083866                         E.T. the Extra-Terrestrial   \n",
       "...          ...                                                ...   \n",
       "17456  tt0099810                           The Hunt for Red October   \n",
       "17884  tt0328880                                       Brother Bear   \n",
       "17484  tt0103060  Teenage Mutant Ninja Turtles II: The Secret of...   \n",
       "17533  tt0108308                   Teenage Mutant Ninja Turtles III   \n",
       "18274  tt1227926                     Dr. Horrible's Sing-Along Blog   \n",
       "\n",
       "          genres   revenue_adj  \n",
       "18108  Adventure  2.827124e+09  \n",
       "17254  Adventure  2.789712e+09  \n",
       "17230  Adventure  1.907006e+09  \n",
       "18519  Adventure  1.902723e+09  \n",
       "17303  Adventure  1.791694e+09  \n",
       "...          ...           ...  \n",
       "17456  Adventure  3.337797e+02  \n",
       "17884  Adventure  2.963382e+02  \n",
       "17484  Adventure  1.248852e+02  \n",
       "17533  Adventure  6.339774e+01  \n",
       "18274  Adventure  3.038360e+00  \n",
       "\n",
       "[1463 rows x 4 columns]"
      ]
     },
     "execution_count": 65,
     "metadata": {},
     "output_type": "execute_result"
    }
   ],
   "source": [
    "Adventure"
   ]
  },
  {
   "cell_type": "code",
   "execution_count": 66,
   "metadata": {
    "scrolled": true,
    "slideshow": {
     "slide_type": "slide"
    }
   },
   "outputs": [
    {
     "data": {
      "image/png": "[encoded data removed]",
      "text/plain": [
       "<Figure size 720x720 with 1 Axes>"
      ]
     },
     "metadata": {
      "needs_background": "light"
     },
     "output_type": "display_data"
    }
   ],
   "source": [
    "Adventure[['revenue_adj']].plot(kind='bar', figsize=(10, 10), sort_columns='True', title='Adventure Movie revenue')\n",
    "#plt.axis('off')\n",
    "plt.xticks([])\n",
    "plt.show()"
   ]
  },
  {
   "cell_type": "markdown",
   "metadata": {
    "slideshow": {
     "slide_type": "slide"
    }
   },
   "source": [
    "The same conclusion as for actors and directors: no correlation with revenue"
   ]
  },
  {
   "cell_type": "markdown",
   "metadata": {
    "slideshow": {
     "slide_type": "slide"
    }
   },
   "source": [
    "## 3. Select Best Features"
   ]
  },
  {
   "cell_type": "markdown",
   "metadata": {
    "slideshow": {
     "slide_type": "slide"
    }
   },
   "source": [
    "### Pearson\n",
    "\n",
    "Let's search for the pairwise correlation of all columns in the dataframe. So we might find for the features that have strong correlation with revenue. We are using Pearson method because it shows linear relationship."
   ]
  },
  {
   "cell_type": "code",
   "execution_count": 67,
   "metadata": {
    "scrolled": true,
    "slideshow": {
     "slide_type": "slide"
    }
   },
   "outputs": [
    {
     "data": {
      "text/html": [
       "<div>\n",
       "<style scoped>\n",
       "    .dataframe tbody tr th:only-of-type {\n",
       "        vertical-align: middle;\n",
       "    }\n",
       "\n",
       "    .dataframe tbody tr th {\n",
       "        vertical-align: top;\n",
       "    }\n",
       "\n",
       "    .dataframe thead th {\n",
       "        text-align: right;\n",
       "    }\n",
       "</style>\n",
       "<table border=\"1\" class=\"dataframe\">\n",
       "  <thead>\n",
       "    <tr style=\"text-align: right;\">\n",
       "      <th></th>\n",
       "      <th>averageRating</th>\n",
       "      <th>numVotes</th>\n",
       "      <th>id</th>\n",
       "      <th>popularity</th>\n",
       "      <th>runtime</th>\n",
       "      <th>release_year</th>\n",
       "      <th>budget_adj</th>\n",
       "      <th>revenue_adj</th>\n",
       "    </tr>\n",
       "  </thead>\n",
       "  <tbody>\n",
       "    <tr>\n",
       "      <td>averageRating</td>\n",
       "      <td>1.000000</td>\n",
       "      <td>0.315199</td>\n",
       "      <td>-0.129992</td>\n",
       "      <td>0.190973</td>\n",
       "      <td>0.236663</td>\n",
       "      <td>-0.225953</td>\n",
       "      <td>0.084862</td>\n",
       "      <td>0.173505</td>\n",
       "    </tr>\n",
       "    <tr>\n",
       "      <td>numVotes</td>\n",
       "      <td>0.315199</td>\n",
       "      <td>1.000000</td>\n",
       "      <td>-0.124479</td>\n",
       "      <td>0.716568</td>\n",
       "      <td>0.208634</td>\n",
       "      <td>0.026148</td>\n",
       "      <td>0.466630</td>\n",
       "      <td>0.630577</td>\n",
       "    </tr>\n",
       "    <tr>\n",
       "      <td>id</td>\n",
       "      <td>-0.129992</td>\n",
       "      <td>-0.124479</td>\n",
       "      <td>1.000000</td>\n",
       "      <td>-0.009241</td>\n",
       "      <td>-0.083589</td>\n",
       "      <td>0.510311</td>\n",
       "      <td>-0.135992</td>\n",
       "      <td>-0.111671</td>\n",
       "    </tr>\n",
       "    <tr>\n",
       "      <td>popularity</td>\n",
       "      <td>0.190973</td>\n",
       "      <td>0.716568</td>\n",
       "      <td>-0.009241</td>\n",
       "      <td>1.000000</td>\n",
       "      <td>0.138146</td>\n",
       "      <td>0.093319</td>\n",
       "      <td>0.465067</td>\n",
       "      <td>0.583628</td>\n",
       "    </tr>\n",
       "    <tr>\n",
       "      <td>runtime</td>\n",
       "      <td>0.236663</td>\n",
       "      <td>0.208634</td>\n",
       "      <td>-0.083589</td>\n",
       "      <td>0.138146</td>\n",
       "      <td>1.000000</td>\n",
       "      <td>-0.118870</td>\n",
       "      <td>0.199956</td>\n",
       "      <td>0.160793</td>\n",
       "    </tr>\n",
       "    <tr>\n",
       "      <td>release_year</td>\n",
       "      <td>-0.225953</td>\n",
       "      <td>0.026148</td>\n",
       "      <td>0.510311</td>\n",
       "      <td>0.093319</td>\n",
       "      <td>-0.118870</td>\n",
       "      <td>1.000000</td>\n",
       "      <td>0.022883</td>\n",
       "      <td>-0.064312</td>\n",
       "    </tr>\n",
       "    <tr>\n",
       "      <td>budget_adj</td>\n",
       "      <td>0.084862</td>\n",
       "      <td>0.466630</td>\n",
       "      <td>-0.135992</td>\n",
       "      <td>0.465067</td>\n",
       "      <td>0.199956</td>\n",
       "      <td>0.022883</td>\n",
       "      <td>1.000000</td>\n",
       "      <td>0.599357</td>\n",
       "    </tr>\n",
       "    <tr>\n",
       "      <td>revenue_adj</td>\n",
       "      <td>0.173505</td>\n",
       "      <td>0.630577</td>\n",
       "      <td>-0.111671</td>\n",
       "      <td>0.583628</td>\n",
       "      <td>0.160793</td>\n",
       "      <td>-0.064312</td>\n",
       "      <td>0.599357</td>\n",
       "      <td>1.000000</td>\n",
       "    </tr>\n",
       "  </tbody>\n",
       "</table>\n",
       "</div>"
      ],
      "text/plain": [
       "               averageRating  numVotes        id  popularity   runtime  \\\n",
       "averageRating       1.000000  0.315199 -0.129992    0.190973  0.236663   \n",
       "numVotes            0.315199  1.000000 -0.124479    0.716568  0.208634   \n",
       "id                 -0.129992 -0.124479  1.000000   -0.009241 -0.083589   \n",
       "popularity          0.190973  0.716568 -0.009241    1.000000  0.138146   \n",
       "runtime             0.236663  0.208634 -0.083589    0.138146  1.000000   \n",
       "release_year       -0.225953  0.026148  0.510311    0.093319 -0.118870   \n",
       "budget_adj          0.084862  0.466630 -0.135992    0.465067  0.199956   \n",
       "revenue_adj         0.173505  0.630577 -0.111671    0.583628  0.160793   \n",
       "\n",
       "               release_year  budget_adj  revenue_adj  \n",
       "averageRating     -0.225953    0.084862     0.173505  \n",
       "numVotes           0.026148    0.466630     0.630577  \n",
       "id                 0.510311   -0.135992    -0.111671  \n",
       "popularity         0.093319    0.465067     0.583628  \n",
       "runtime           -0.118870    0.199956     0.160793  \n",
       "release_year       1.000000    0.022883    -0.064312  \n",
       "budget_adj         0.022883    1.000000     0.599357  \n",
       "revenue_adj       -0.064312    0.599357     1.000000  "
      ]
     },
     "execution_count": 67,
     "metadata": {},
     "output_type": "execute_result"
    }
   ],
   "source": [
    "pearsoncorr = data.corr(method='pearson')\n",
    "pearsoncorr"
   ]
  },
  {
   "cell_type": "code",
   "execution_count": 68,
   "metadata": {
    "slideshow": {
     "slide_type": "slide"
    }
   },
   "outputs": [
    {
     "data": {
      "text/plain": [
       "<matplotlib.axes._subplots.AxesSubplot at 0x1e52dd6ffd0>"
      ]
     },
     "execution_count": 68,
     "metadata": {},
     "output_type": "execute_result"
    },
    {
     "data": {
      "image/png": "[encoded data removed]",
      "text/plain": [
       "<Figure size 504x504 with 2 Axes>"
      ]
     },
     "metadata": {
      "needs_background": "light"
     },
     "output_type": "display_data"
    }
   ],
   "source": [
    "plt.figure(figsize=(7, 7))\n",
    "sns.heatmap(pearsoncorr, \n",
    "            xticklabels=pearsoncorr.columns,\n",
    "            yticklabels=pearsoncorr.columns,\n",
    "            cmap='RdBu_r',\n",
    "            annot=True,\n",
    "            linewidth=1)"
   ]
  },
  {
   "cell_type": "code",
   "execution_count": 69,
   "metadata": {
    "slideshow": {
     "slide_type": "slide"
    }
   },
   "outputs": [
    {
     "data": {
      "text/plain": [
       "<seaborn.axisgrid.PairGrid at 0x1e537133b70>"
      ]
     },
     "execution_count": 69,
     "metadata": {},
     "output_type": "execute_result"
    },
    {
     "data": {
      "image/png": "[encoded data removed]",
      "text/plain": [
       "<Figure size 720x720 with 20 Axes>"
      ]
     },
     "metadata": {
      "needs_background": "light"
     },
     "output_type": "display_data"
    }
   ],
   "source": [
    "df_plot = data[['numVotes', 'popularity', 'budget_adj', 'revenue_adj']]\n",
    "sns.pairplot(df_plot)"
   ]
  },
  {
   "cell_type": "markdown",
   "metadata": {
    "slideshow": {
     "slide_type": "slide"
    }
   },
   "source": [
    "The features that have the biggest positive correlation with revenue_adj are numVotes, popularity, budget_adj."
   ]
  },
  {
   "cell_type": "markdown",
   "metadata": {
    "slideshow": {
     "slide_type": "slide"
    }
   },
   "source": [
    "## 4. Machine Learning\n",
    "\n",
    "> <b>1.</b> Choosing the appropriate score in order to estimate the efficiency of the model. In our case we choose r2_score.  "
   ]
  },
  {
   "cell_type": "markdown",
   "metadata": {
    "slideshow": {
     "slide_type": "slide"
    }
   },
   "source": [
    "> <b>2.</b> Choosing the models we want to fit\n",
    "> - Ridge reggresion: shrinks the coefficients and it helps to reduce the model complexity;\n",
    "<br>\n",
    "<br>\n",
    "> - DecisionTreeRegressor: observes features of an object and trains a model in the structure of a tree to predict data in the future to produce meaningful continuous output;\n",
    "<br>\n",
    "<br>\n",
    "> - RandomForestRegressor: algorithm based on making decision trees using random sample and random features."
   ]
  },
  {
   "cell_type": "markdown",
   "metadata": {
    "slideshow": {
     "slide_type": "slide"
    }
   },
   "source": [
    "\n",
    "> <b>3.</b> Select relevant features on which the model has the best score. Train the best model, estimate the results."
   ]
  },
  {
   "cell_type": "code",
   "execution_count": 70,
   "metadata": {
    "slideshow": {
     "slide_type": "slide"
    }
   },
   "outputs": [],
   "source": [
    "from sklearn.model_selection import train_test_split\n",
    "from sklearn.pipeline import make_pipeline\n",
    "from sklearn.preprocessing import StandardScaler\n",
    "from sklearn.linear_model import Ridge\n",
    "from sklearn.model_selection import GridSearchCV\n",
    "from sklearn.metrics import r2_score\n",
    "from sklearn.tree import DecisionTreeRegressor\n",
    "from sklearn.ensemble import RandomForestRegressor"
   ]
  },
  {
   "cell_type": "code",
   "execution_count": 71,
   "metadata": {
    "slideshow": {
     "slide_type": "slide"
    }
   },
   "outputs": [],
   "source": [
    "# Let's finally choose features and split data into train and test part\n",
    "# First, we want to be sure that we estimated the most valuable features correctly:\n",
    "# we will test different combination of features with Ridge regression\n",
    "\n",
    "x1 = pd.DataFrame(data['numVotes'])\n",
    "x2 = data[['numVotes','popularity']]\n",
    "x3 = data[['numVotes','popularity', 'budget_adj']]\n",
    "x4 = data[['numVotes','popularity', 'budget_adj','runtime']]\n",
    "x5 = data[['numVotes','popularity', 'budget_adj','runtime','averageRating']]\n",
    "\n",
    "y = data['revenue_adj']\n",
    "\n",
    "X_train_1, X_test_1, y_train_1, y_test_1 = train_test_split(x1, y, test_size = 0.2,random_state = 42)\n",
    "X_train_2, X_test_2, y_train_2, y_test_2 = train_test_split(x2, y, test_size = 0.2,random_state = 42)\n",
    "X_train_3, X_test_3, y_train_3, y_test_3 = train_test_split(x3, y, test_size = 0.2,random_state = 42)\n",
    "X_train_4, X_test_4, y_train_4, y_test_4 = train_test_split(x4, y, test_size = 0.2,random_state = 42)\n",
    "X_train_5, X_test_5, y_train_5, y_test_5 = train_test_split(x5, y, test_size = 0.2,random_state = 42)"
   ]
  },
  {
   "cell_type": "code",
   "execution_count": 72,
   "metadata": {
    "slideshow": {
     "slide_type": "slide"
    }
   },
   "outputs": [],
   "source": [
    "# creating pipelines with model and StandardScaler for normalizing the data\n",
    "\n",
    "pipeline_1 = make_pipeline(StandardScaler(), Ridge()).fit(X_train_1, y_train_1)\n",
    "pipeline_2 = make_pipeline(StandardScaler(), Ridge()).fit(X_train_2, y_train_2)\n",
    "pipeline_3 = make_pipeline(StandardScaler(), Ridge()).fit(X_train_3, y_train_3)\n",
    "pipeline_4 = make_pipeline(StandardScaler(), Ridge()).fit(X_train_4, y_train_4)\n",
    "pipeline_5 = make_pipeline(StandardScaler(), Ridge()).fit(X_train_5, y_train_5)"
   ]
  },
  {
   "cell_type": "code",
   "execution_count": 73,
   "metadata": {
    "slideshow": {
     "slide_type": "slide"
    }
   },
   "outputs": [],
   "source": [
    "# choosing the list of peremeters for training Ridge regression\n",
    "alp =list(10**i for i in range(-6,7))\n",
    "parameters = {'ridge__alpha': alp}\n",
    "score = 'r2'"
   ]
  },
  {
   "cell_type": "code",
   "execution_count": 74,
   "metadata": {
    "slideshow": {
     "slide_type": "slide"
    }
   },
   "outputs": [
    {
     "name": "stdout",
     "output_type": "stream",
     "text": [
      "Best parameters : {'ridge__alpha': 100} \n",
      "\n",
      "r2_score is 0.4927398449500937\n"
     ]
    }
   ],
   "source": [
    "Grid_1 = GridSearchCV(pipeline_1, parameters, cv=5, scoring=score, refit = True).fit(X_train_1, y_train_1)\n",
    "print('Best parameters :', Grid_1.best_params_,'\\n')\n",
    "\n",
    "y_pred_1 = pipeline_1.predict(X_test_1)\n",
    "print(\"r2_score is\", r2_score( y_test_1, y_pred_1))"
   ]
  },
  {
   "cell_type": "code",
   "execution_count": 75,
   "metadata": {
    "slideshow": {
     "slide_type": "slide"
    }
   },
   "outputs": [
    {
     "name": "stdout",
     "output_type": "stream",
     "text": [
      "Best parameters : {'ridge__alpha': 100} \n",
      "\n",
      "r2_score is 0.5466646785302356\n"
     ]
    }
   ],
   "source": [
    "Grid_2 = GridSearchCV(pipeline_2, parameters, cv=5, scoring=score, refit = True).fit(X_train_2, y_train_2)\n",
    "print('Best parameters :', Grid_2.best_params_,'\\n')\n",
    "\n",
    "y_pred_2 = pipeline_2.predict(X_test_2)\n",
    "print(\"r2_score is\", r2_score(y_test_2, y_pred_2))"
   ]
  },
  {
   "cell_type": "code",
   "execution_count": 76,
   "metadata": {
    "slideshow": {
     "slide_type": "slide"
    }
   },
   "outputs": [
    {
     "name": "stdout",
     "output_type": "stream",
     "text": [
      "Best parameters : {'ridge__alpha': 100} \n",
      "\n",
      "r2_score is 0.6431816770011823\n"
     ]
    }
   ],
   "source": [
    "Grid_3 = GridSearchCV(pipeline_3, parameters, cv=5, scoring=score, refit = True).fit(X_train_3, y_train_3)\n",
    "print('Best parameters :', Grid_3.best_params_,'\\n')\n",
    "\n",
    "y_pred_3 = pipeline_3.predict(X_test_3)\n",
    "print(\"r2_score is\", r2_score(y_test_3,y_pred_3))"
   ]
  },
  {
   "cell_type": "code",
   "execution_count": 77,
   "metadata": {
    "slideshow": {
     "slide_type": "slide"
    }
   },
   "outputs": [
    {
     "name": "stdout",
     "output_type": "stream",
     "text": [
      "Best parameters : {'ridge__alpha': 100} \n",
      "\n",
      "r2_score is 0.6431652005039652\n"
     ]
    }
   ],
   "source": [
    "Grid_4 = GridSearchCV(pipeline_4, parameters, cv=5, scoring=score, refit = True).fit(X_train_4, y_train_4)\n",
    "print('Best parameters :', Grid_4.best_params_,'\\n')\n",
    "\n",
    "y_pred_4 = pipeline_4.predict(X_test_4)\n",
    "print(\"r2_score is\", r2_score(y_test_4, y_pred_4))"
   ]
  },
  {
   "cell_type": "code",
   "execution_count": 78,
   "metadata": {
    "slideshow": {
     "slide_type": "slide"
    }
   },
   "outputs": [
    {
     "name": "stdout",
     "output_type": "stream",
     "text": [
      "Best parameters : {'ridge__alpha': 100} \n",
      "\n",
      "r2_score is 0.6430700348187119\n"
     ]
    }
   ],
   "source": [
    "Grid_5 = GridSearchCV(pipeline_5, parameters, cv=5, scoring=score, refit = True).fit(X_train_5, y_train_5)\n",
    "print('Best parameters :', Grid_5.best_params_,'\\n')\n",
    "\n",
    "y_pred_5 = pipeline_5.predict(X_test_5)\n",
    "print(\"r2_score is\", r2_score(y_test_5, y_pred_5))"
   ]
  },
  {
   "cell_type": "code",
   "execution_count": 79,
   "metadata": {
    "slideshow": {
     "slide_type": "slide"
    }
   },
   "outputs": [
    {
     "data": {
      "image/png": "[encoded data removed]",
      "text/plain": [
       "<Figure size 432x288 with 1 Axes>"
      ]
     },
     "metadata": {
      "needs_background": "light"
     },
     "output_type": "display_data"
    }
   ],
   "source": [
    "# Let's plot how score depends on the number of features for Ridge\n",
    "y_list=[r2_score(y_test_1, y_pred_1),r2_score(y_test_2, y_pred_2),r2_score(y_test_3, y_pred_3),r2_score(y_test_4, y_pred_4),r2_score(y_test_5, y_pred_5)]\n",
    "plt.plot(range(1,6),y_list)\n",
    "plt.xlabel('Number of features for Ridge')\n",
    "plt.ylabel('R2 score')\n",
    "plt.show()"
   ]
  },
  {
   "cell_type": "markdown",
   "metadata": {
    "slideshow": {
     "slide_type": "slide"
    }
   },
   "source": [
    "As we can see the score didn't do higher since we have 3 features. So let's use them for DecisionTreeRegressor and RandomForestRegressor."
   ]
  },
  {
   "cell_type": "code",
   "execution_count": 80,
   "metadata": {
    "slideshow": {
     "slide_type": "slide"
    }
   },
   "outputs": [
    {
     "name": "stdout",
     "output_type": "stream",
     "text": [
      "Best parameters:  {'decisiontreeregressor__max_depth': 5}\n",
      "0.5565273452860602\n"
     ]
    }
   ],
   "source": [
    "# Perform DecisionTreeRegressor\n",
    "pipeline_dt = make_pipeline(StandardScaler(), DecisionTreeRegressor()).fit(X_train_3, y_train_3)\n",
    "\n",
    "Depth_list = range(1, 10)\n",
    "parameters_dt = {'decisiontreeregressor__max_depth': Depth_list}\n",
    "\n",
    "Grid_dt = GridSearchCV(pipeline_dt, parameters_dt, cv=5, scoring = score).fit(X_train_3, y_train_3)\n",
    "print('Best parameters: ',Grid_dt.best_params_)\n",
    "\n",
    "best = Grid_dt.best_estimator_.fit(X_train_3, y_train_3)\n",
    "y_pred_3 = best.predict(X_test_3)\n",
    "print(r2_score(y_test_3, y_pred_3))"
   ]
  },
  {
   "cell_type": "code",
   "execution_count": 81,
   "metadata": {
    "slideshow": {
     "slide_type": "slide"
    }
   },
   "outputs": [
    {
     "name": "stderr",
     "output_type": "stream",
     "text": [
      "C:\\Users\\gaziz\\AppData\\Local\\Continuum\\anaconda3\\envs\\scientificcomp\\lib\\site-packages\\sklearn\\ensemble\\forest.py:245: FutureWarning: The default value of n_estimators will change from 10 in version 0.20 to 100 in 0.22.\n",
      "  \"10 in version 0.20 to 100 in 0.22.\", FutureWarning)\n"
     ]
    },
    {
     "name": "stdout",
     "output_type": "stream",
     "text": [
      "Best parameters:  {'randomforestregressor__max_depth': 5, 'randomforestregressor__n_estimators': 16}\n",
      "0.6442237574928276\n"
     ]
    }
   ],
   "source": [
    "# Perform RandomForestRegressor\n",
    "pipeline_rf = make_pipeline(StandardScaler(), RandomForestRegressor()).fit(X_train_3, y_train_3)\n",
    "\n",
    "Depth_list = range(1, 10)\n",
    "parameters_rf = {'randomforestregressor__max_depth': Depth_list,'randomforestregressor__n_estimators': range(1, 20)}\n",
    "\n",
    "Grid_rf = GridSearchCV(pipeline_rf, parameters_rf, scoring = score, cv=5, n_jobs=-1).fit(X_train_3, y_train_3)\n",
    "print('Best parameters: ',Grid_rf.best_params_)\n",
    "\n",
    "best = Grid_rf.best_estimator_.fit(X_train_3, y_train_3)\n",
    "y_pred_3 = best.predict(X_test_3)\n",
    "print(r2_score(y_test_3, y_pred_3))"
   ]
  },
  {
   "cell_type": "markdown",
   "metadata": {
    "slideshow": {
     "slide_type": "slide"
    }
   },
   "source": [
    "## Conclusion"
   ]
  },
  {
   "cell_type": "markdown",
   "metadata": {
    "slideshow": {
     "slide_type": "slide"
    }
   },
   "source": [
    "As we mentioned before, the task of the great importance is to predict revenue for the particular movie. Moreover, to find the crucial for the movie outcome features, which will play a big role in the future production. So, based on data from IMDb and TMDb, we gained the following results:\n",
    "> <b>1.</b> Top 3 features that have the biggest positive correlation with revenue are the number of people who voted on IMDb website, popularity of the movie and budget."
   ]
  },
  {
   "cell_type": "markdown",
   "metadata": {
    "slideshow": {
     "slide_type": "slide"
    }
   },
   "source": [
    "> <b>2.</b> Top actors, top directors and the most popular genres don't affect the revenue so much. We showed examples in preprocessing part that approved this statement. \n",
    "<br>\n",
    "<br>\n",
    "> <b>3.</b> Rating has influence on income, but it's not on top 3 features."
   ]
  },
  {
   "cell_type": "markdown",
   "metadata": {
    "slideshow": {
     "slide_type": "slide"
    }
   },
   "source": [
    "> <b>4.</b> All three models that we used(Ridge, DecisionTreeRegression, RandomForestRegression) showed approximately the same results based on R2_score. But elaborating on data showed us, that there are lot's of missed data in the dataset, especially revenue_adj and budget_adj(they are equal to zero), so we replaced them by median. \n",
    "<br>\n",
    "<br>"
   ]
  },
  {
   "cell_type": "markdown",
   "metadata": {
    "slideshow": {
     "slide_type": "slide"
    }
   },
   "source": [
    "To sum up, we would like to say that machine learning could play a significant role for work of producers and filmmakers for exploratory analysis of income. But it's more esssential for the big companies, not for festival movies. It would be great to estimate the key features of these two groups to find if there have something in common. And would mass market films change its direction to more art house movies?"
   ]
  }
 ],
 "metadata": {
  "celltoolbar": "Slideshow",
  "kernelspec": {
   "display_name": "Python 3",
   "language": "python",
   "name": "python3"
  },
  "language_info": {
   "codemirror_mode": {
    "name": "ipython",
    "version": 3
   },
   "file_extension": ".py",
   "mimetype": "text/x-python",
   "name": "python",
   "nbconvert_exporter": "python",
   "pygments_lexer": "ipython3",
   "version": "3.6.9"
  }
 },
 "nbformat": 4,
 "nbformat_minor": 2
}
